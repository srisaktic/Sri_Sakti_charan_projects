{
  "nbformat": 4,
  "nbformat_minor": 0,
  "metadata": {
    "colab": {
      "provenance": [],
      "gpuType": "T4",
      "machine_shape": "hm"
    },
    "kernelspec": {
      "name": "python3",
      "display_name": "Python 3"
    },
    "language_info": {
      "name": "python"
    },
    "accelerator": "GPU"
  },
  "cells": [
    {
      "cell_type": "code",
      "execution_count": 1,
      "metadata": {
        "id": "E83uHT4l26QE"
      },
      "outputs": [],
      "source": []
    },
    {
      "cell_type": "code",
      "source": [
        "from google.colab import drive\n",
        "drive.mount('/content/drive')"
      ],
      "metadata": {
        "colab": {
          "base_uri": "https://localhost:8080/"
        },
        "id": "Ex_3H0PiDGGX",
        "outputId": "30ae16f0-d205-4dcc-d259-0bcad01cd5f5"
      },
      "execution_count": 2,
      "outputs": [
        {
          "output_type": "stream",
          "name": "stdout",
          "text": [
            "Drive already mounted at /content/drive; to attempt to forcibly remount, call drive.mount(\"/content/drive\", force_remount=True).\n"
          ]
        }
      ]
    },
    {
      "cell_type": "code",
      "source": [
        "import os\n",
        "import torch\n",
        "import time\n",
        "from PIL import Image\n",
        "import torch.nn as nn\n",
        "import torch.optim as optim\n",
        "from collections import Counter\n",
        "from torchvision.datasets import ImageFolder\n",
        "from torchvision import datasets, transforms, models\n",
        "from torch.utils.data import DataLoader\n",
        "from sklearn.metrics import classification_report\n",
        "from torchvision.models import (\n",
        "    resnet50, ResNet50_Weights,\n",
        "    efficientnet_b0, EfficientNet_B0_Weights,\n",
        "    mobilenet_v3_large, MobileNet_V3_Large_Weights,\n",
        "    densenet121, DenseNet121_Weights\n",
        ")\n",
        "\n",
        "from sklearn.metrics import confusion_matrix, ConfusionMatrixDisplay\n",
        "import matplotlib.pyplot as plt"
      ],
      "metadata": {
        "id": "I42w0mCO9wWq"
      },
      "execution_count": 3,
      "outputs": []
    },
    {
      "cell_type": "code",
      "source": [
        "# Set device\n",
        "device = torch.device(\"cuda\" if torch.cuda.is_available() else \"cpu\")\n",
        "\n",
        "# ✅ Enable cuDNN tuning for speedup\n",
        "torch.backends.cudnn.benchmark = True\n",
        "\n",
        "# Dataset paths (Update these paths)\n",
        "train_dir = \"/content/drive/MyDrive/Image_dataset/train\"\n",
        "val_dir   = \"/content/drive/MyDrive/Image_dataset/val\"\n"
      ],
      "metadata": {
        "id": "B-3pzzAd9wZR"
      },
      "execution_count": 4,
      "outputs": []
    },
    {
      "cell_type": "code",
      "source": [
        "transform = transforms.Compose([\n",
        "    transforms.Resize((224, 224)),\n",
        "    transforms.ToTensor(),\n",
        "    transforms.Normalize(mean=[0.5]*3, std=[0.5]*3)\n",
        "])"
      ],
      "metadata": {
        "id": "HfcvKJYQAVAJ"
      },
      "execution_count": 5,
      "outputs": []
    },
    {
      "cell_type": "code",
      "source": [
        "# ✅ Custom Dataset Wrapper for Binary Classification\n",
        "class BinaryPhishingDataset(ImageFolder):\n",
        "    def __getitem__(self, index):\n",
        "        image, label = super().__getitem__(index)\n",
        "        folder_name = self.classes[label]\n",
        "        binary_label = 0 if folder_name == \"other\" else 1\n",
        "        return image, binary_label\n",
        "\n"
      ],
      "metadata": {
        "id": "zk8RJ5Uw9wbW"
      },
      "execution_count": 6,
      "outputs": []
    },
    {
      "cell_type": "code",
      "source": [
        "# ✅ Load datasets\n",
        "train_dataset = BinaryPhishingDataset(train_dir, transform=transform)\n",
        "val_dataset = BinaryPhishingDataset(val_dir, transform=transform)\n",
        "\n",
        "train_loader = DataLoader(train_dataset, batch_size=32, shuffle=True, num_workers=2, pin_memory=True)\n",
        "val_loader = DataLoader(val_dataset, batch_size=32, shuffle=False, num_workers=2, pin_memory=True)\n",
        "\n"
      ],
      "metadata": {
        "id": "HnDH19lwwecw"
      },
      "execution_count": 7,
      "outputs": []
    },
    {
      "cell_type": "code",
      "source": [
        "print(f\"Total training images: {len(train_dataset)}\")\n",
        "print(f\"Total testing images:  {len(val_dataset)}\")"
      ],
      "metadata": {
        "colab": {
          "base_uri": "https://localhost:8080/"
        },
        "id": "6txS2GUCwhsM",
        "outputId": "a5384988-be70-406d-f606-9f36ef344dbd"
      },
      "execution_count": 8,
      "outputs": [
        {
          "output_type": "stream",
          "name": "stdout",
          "text": [
            "Total training images: 1313\n",
            "Total testing images:  1539\n"
          ]
        }
      ]
    },
    {
      "cell_type": "code",
      "source": [
        "import torch\n",
        "import torch.nn as nn\n",
        "import torch.optim as optim\n",
        "from sklearn.metrics import accuracy_score, precision_score, recall_score, f1_score, classification_report, confusion_matrix\n",
        "\n",
        "def train_model(model, train_loader, val_loader, device, num_epochs=5, model_name=\"Model\"):\n",
        "    \"\"\"\n",
        "    Trains and evaluates a model with classification metrics and confusion matrix.\n",
        "\n",
        "    Returns: dict with model, metrics, predictions, and confusion matrix\n",
        "    \"\"\"\n",
        "    model = model.to(device)\n",
        "    criterion = nn.CrossEntropyLoss()\n",
        "    optimizer = optim.Adam(model.parameters(), lr=1e-4)\n",
        "\n",
        "    for epoch in range(num_epochs):\n",
        "        model.train()\n",
        "        running_loss = 0.0\n",
        "        correct = 0\n",
        "        total = 0\n",
        "\n",
        "        for inputs, labels in train_loader:\n",
        "            inputs, labels = inputs.to(device), labels.to(device)\n",
        "\n",
        "            optimizer.zero_grad()\n",
        "            outputs = model(inputs)\n",
        "            loss = criterion(outputs, labels)\n",
        "            loss.backward()\n",
        "            optimizer.step()\n",
        "\n",
        "            running_loss += loss.item()\n",
        "            _, predicted = torch.max(outputs, 1)\n",
        "            correct += (predicted == labels).sum().item()\n",
        "            total += labels.size(0)\n",
        "\n",
        "        accuracy = correct / total * 100\n",
        "        print(f\"[{model_name}] Epoch {epoch+1}/{num_epochs}, Loss: {running_loss:.4f}, Accuracy: {accuracy:.2f}%\")\n",
        "\n",
        "    # Evaluation\n",
        "    model.eval()\n",
        "    all_preds = []\n",
        "    all_labels = []\n",
        "\n",
        "    with torch.no_grad():\n",
        "        for inputs, labels in val_loader:\n",
        "            inputs = inputs.to(device)\n",
        "            outputs = model(inputs)\n",
        "            _, preds = torch.max(outputs, 1)\n",
        "            all_preds.extend(preds.cpu().numpy())\n",
        "            all_labels.extend(labels.numpy())\n",
        "\n",
        "    acc = accuracy_score(all_labels, all_preds)\n",
        "    prec = precision_score(all_labels, all_preds)\n",
        "    rec = recall_score(all_labels, all_preds)\n",
        "    f1 = f1_score(all_labels, all_preds)\n",
        "    cm = confusion_matrix(all_labels, all_preds)\n",
        "\n",
        "    print(f\"\\n📊 Classification Report for {model_name}:\\n\")\n",
        "    print(classification_report(all_labels, all_preds, target_names=[\"Legitimate\", \"Phishing\"]))\n",
        "\n",
        "    print(f\"\\n✅ Summary for {model_name}:\")\n",
        "    print(f\"Accuracy :  {acc:.4f}\")\n",
        "    print(f\"Precision:  {prec:.4f}\")\n",
        "    print(f\"Recall   :  {rec:.4f}\")\n",
        "    print(f\"F1 Score :  {f1:.4f}\")\n",
        "\n",
        "    return {\n",
        "        \"model\": model,\n",
        "        \"accuracy\": acc,\n",
        "        \"precision\": prec,\n",
        "        \"recall\": rec,\n",
        "        \"f1_score\": f1,\n",
        "        \"confusion_matrix\": cm,\n",
        "        \"predictions\": all_preds,\n",
        "        \"labels\": all_labels\n",
        "    }"
      ],
      "metadata": {
        "id": "mpK248bW69ad"
      },
      "execution_count": 9,
      "outputs": []
    },
    {
      "cell_type": "code",
      "source": [
        "# ResNet50\n",
        "model_res = resnet50(weights=ResNet50_Weights.DEFAULT)\n",
        "model_res.fc = nn.Linear(model_res.fc.in_features, 2)\n",
        "\n",
        "# EfficientNet-B0\n",
        "model_eff = efficientnet_b0(weights=EfficientNet_B0_Weights.DEFAULT)\n",
        "model_eff.classifier[1] = nn.Linear(model_eff.classifier[1].in_features, 2)\n",
        "\n",
        "# DenseNet121\n",
        "model_den = densenet121(weights=DenseNet121_Weights.DEFAULT)\n",
        "model_den.classifier = nn.Linear(model_den.classifier.in_features, 2)\n"
      ],
      "metadata": {
        "id": "tmRqHVpD9w4j",
        "colab": {
          "base_uri": "https://localhost:8080/"
        },
        "outputId": "93a25368-542d-4dff-e5a6-17f223c15e48"
      },
      "execution_count": 10,
      "outputs": [
        {
          "output_type": "stream",
          "name": "stderr",
          "text": [
            "Downloading: \"https://download.pytorch.org/models/resnet50-11ad3fa6.pth\" to /root/.cache/torch/hub/checkpoints/resnet50-11ad3fa6.pth\n",
            "100%|██████████| 97.8M/97.8M [00:00<00:00, 177MB/s]\n",
            "Downloading: \"https://download.pytorch.org/models/efficientnet_b0_rwightman-7f5810bc.pth\" to /root/.cache/torch/hub/checkpoints/efficientnet_b0_rwightman-7f5810bc.pth\n",
            "100%|██████████| 20.5M/20.5M [00:00<00:00, 229MB/s]\n",
            "Downloading: \"https://download.pytorch.org/models/densenet121-a639ec97.pth\" to /root/.cache/torch/hub/checkpoints/densenet121-a639ec97.pth\n",
            "100%|██████████| 30.8M/30.8M [00:00<00:00, 188MB/s]\n"
          ]
        }
      ]
    },
    {
      "cell_type": "code",
      "source": [],
      "metadata": {
        "id": "dw2orSfW5z4_"
      },
      "execution_count": 10,
      "outputs": []
    },
    {
      "cell_type": "code",
      "source": [
        "# Train and evaluate each model\n",
        "start = time.time()\n",
        "resnet_result = train_model(model_res, train_loader, val_loader, device, model_name=\"ResNet50\")\n",
        "print(f\"⏱️ ResNet50 took {time.time() - start:.2f} seconds\\n\")\n"
      ],
      "metadata": {
        "id": "AK3hxAFK9w61",
        "colab": {
          "base_uri": "https://localhost:8080/"
        },
        "outputId": "a16a7d7d-2e6f-42a3-ff99-45b8893f4ef0"
      },
      "execution_count": 11,
      "outputs": [
        {
          "output_type": "stream",
          "name": "stdout",
          "text": [
            "[ResNet50] Epoch 1/5, Loss: 21.1756, Accuracy: 76.39%\n",
            "[ResNet50] Epoch 2/5, Loss: 8.7077, Accuracy: 93.30%\n",
            "[ResNet50] Epoch 3/5, Loss: 2.6458, Accuracy: 99.01%\n",
            "[ResNet50] Epoch 4/5, Loss: 2.1230, Accuracy: 99.77%\n",
            "[ResNet50] Epoch 5/5, Loss: 0.7862, Accuracy: 99.92%\n",
            "\n",
            "📊 Classification Report for ResNet50:\n",
            "\n",
            "              precision    recall  f1-score   support\n",
            "\n",
            "  Legitimate       0.98      0.86      0.91      1000\n",
            "    Phishing       0.78      0.96      0.86       539\n",
            "\n",
            "    accuracy                           0.89      1539\n",
            "   macro avg       0.88      0.91      0.89      1539\n",
            "weighted avg       0.91      0.89      0.90      1539\n",
            "\n",
            "\n",
            "✅ Summary for ResNet50:\n",
            "Accuracy :  0.8941\n",
            "Precision:  0.7848\n",
            "Recall   :  0.9610\n",
            "F1 Score :  0.8641\n",
            "⏱️ ResNet50 took 1239.85 seconds\n",
            "\n"
          ]
        }
      ]
    },
    {
      "cell_type": "code",
      "source": [
        "\n",
        "start = time.time()\n",
        "effnet_result = train_model(model_eff, train_loader, val_loader, device, model_name=\"EfficientNet-B0\")\n",
        "print(f\"⏱️ EfficientNet-B0 took {time.time() - start:.2f} seconds\\n\")\n"
      ],
      "metadata": {
        "colab": {
          "base_uri": "https://localhost:8080/"
        },
        "id": "rqtER1Yg6oE7",
        "outputId": "4faf3cee-0c89-4240-c5a7-a3afc05489e3"
      },
      "execution_count": 12,
      "outputs": [
        {
          "output_type": "stream",
          "name": "stdout",
          "text": [
            "[EfficientNet-B0] Epoch 1/5, Loss: 23.9176, Accuracy: 73.50%\n",
            "[EfficientNet-B0] Epoch 2/5, Loss: 15.1756, Accuracy: 88.19%\n",
            "[EfficientNet-B0] Epoch 3/5, Loss: 8.6073, Accuracy: 93.83%\n",
            "[EfficientNet-B0] Epoch 4/5, Loss: 5.2383, Accuracy: 96.19%\n",
            "[EfficientNet-B0] Epoch 5/5, Loss: 3.2531, Accuracy: 98.40%\n",
            "\n",
            "📊 Classification Report for EfficientNet-B0:\n",
            "\n",
            "              precision    recall  f1-score   support\n",
            "\n",
            "  Legitimate       0.98      0.84      0.90      1000\n",
            "    Phishing       0.76      0.97      0.86       539\n",
            "\n",
            "    accuracy                           0.88      1539\n",
            "   macro avg       0.87      0.91      0.88      1539\n",
            "weighted avg       0.91      0.88      0.89      1539\n",
            "\n",
            "\n",
            "✅ Summary for EfficientNet-B0:\n",
            "Accuracy :  0.8850\n",
            "Precision:  0.7631\n",
            "Recall   :  0.9740\n",
            "F1 Score :  0.8557\n",
            "⏱️ EfficientNet-B0 took 100.96 seconds\n",
            "\n"
          ]
        }
      ]
    },
    {
      "cell_type": "code",
      "source": [
        "start = time.time()\n",
        "densenet_result = train_model(model_den, train_loader, val_loader, device, model_name=\"DenseNet121\")\n",
        "print(f\"⏱️ DenseNet121 took {time.time() - start:.2f} seconds\\n\")"
      ],
      "metadata": {
        "colab": {
          "base_uri": "https://localhost:8080/"
        },
        "id": "SGhKir7A6n9Z",
        "outputId": "f900fd3a-754b-4da1-aa5a-6cfeae335d60"
      },
      "execution_count": 13,
      "outputs": [
        {
          "output_type": "stream",
          "name": "stdout",
          "text": [
            "[DenseNet121] Epoch 1/5, Loss: 18.8230, Accuracy: 79.74%\n",
            "[DenseNet121] Epoch 2/5, Loss: 6.1261, Accuracy: 95.66%\n",
            "[DenseNet121] Epoch 3/5, Loss: 3.4917, Accuracy: 99.62%\n",
            "[DenseNet121] Epoch 4/5, Loss: 1.1632, Accuracy: 99.92%\n",
            "[DenseNet121] Epoch 5/5, Loss: 2.0708, Accuracy: 99.92%\n",
            "\n",
            "📊 Classification Report for DenseNet121:\n",
            "\n",
            "              precision    recall  f1-score   support\n",
            "\n",
            "  Legitimate       0.99      0.80      0.88      1000\n",
            "    Phishing       0.72      0.98      0.83       539\n",
            "\n",
            "    accuracy                           0.86      1539\n",
            "   macro avg       0.86      0.89      0.86      1539\n",
            "weighted avg       0.89      0.86      0.87      1539\n",
            "\n",
            "\n",
            "✅ Summary for DenseNet121:\n",
            "Accuracy :  0.8622\n",
            "Precision:  0.7249\n",
            "Recall   :  0.9777\n",
            "F1 Score :  0.8325\n",
            "⏱️ DenseNet121 took 106.22 seconds\n",
            "\n"
          ]
        }
      ]
    },
    {
      "cell_type": "code",
      "source": [
        "\n",
        "# ✅ Extract F1 scores from the returned results\n",
        "f1_resnet = resnet_result[\"f1_score\"]\n",
        "f1_eff    = effnet_result[\"f1_score\"]\n",
        "f1_den    = densenet_result[\"f1_score\"]"
      ],
      "metadata": {
        "id": "cldL8RNU652R"
      },
      "execution_count": 14,
      "outputs": []
    },
    {
      "cell_type": "code",
      "source": [
        "import torch.nn.functional as F\n",
        "from sklearn.metrics import classification_report, accuracy_score, precision_score, recall_score, f1_score\n",
        "\n",
        "# ✅ Compute weights based on F1-scores\n",
        "total_f1 = f1_resnet + f1_eff + f1_den\n",
        "w_res = f1_resnet / total_f1\n",
        "w_eff = f1_eff / total_f1\n",
        "w_den = f1_den/ total_f1\n",
        "\n",
        "print(f\"Voting Weights → ResNet: {w_res:.2f}, EfficientNet: {w_eff:.2f}, DenseNet: {w_den:.2f}\")\n",
        "\n",
        "# ✅ Weighted Soft Voting\n",
        "all_preds_voting = []\n",
        "all_labels_voting = []\n",
        "\n",
        "model_res.eval()\n",
        "model_eff.eval()\n",
        "model_den.eval()\n",
        "\n",
        "with torch.no_grad():\n",
        "    for inputs, labels in val_loader:\n",
        "        inputs = inputs.to(device)\n",
        "        all_labels_voting.extend(labels.cpu().numpy())\n",
        "\n",
        "        prob_res = F.softmax(model_res(inputs), dim=1)\n",
        "        prob_eff = F.softmax(model_eff(inputs), dim=1)\n",
        "        prob_den = F.softmax(model_den(inputs), dim=1)\n",
        "\n",
        "        # ✅ Weighted average of probabilities\n",
        "        avg_prob = (w_res * prob_res + w_eff * prob_eff + w_den * prob_den)\n",
        "        final_preds = torch.argmax(avg_prob, dim=1)\n",
        "\n",
        "        all_preds_voting.extend(final_preds.cpu().numpy())"
      ],
      "metadata": {
        "colab": {
          "base_uri": "https://localhost:8080/"
        },
        "id": "ubG27178GXek",
        "outputId": "91e8c734-3698-4c31-a3a8-4f7ccece4f40"
      },
      "execution_count": 15,
      "outputs": [
        {
          "output_type": "stream",
          "name": "stdout",
          "text": [
            "Voting Weights → ResNet: 0.34, EfficientNet: 0.34, DenseNet: 0.33\n"
          ]
        }
      ]
    },
    {
      "cell_type": "code",
      "source": [
        "print(\"\\n📊 Classification Report (Weighted Soft Voting):\")\n",
        "print(classification_report(all_labels_voting, all_preds_voting, target_names=[\"Legitimate\", \"Phishing\"]))\n",
        "\n",
        "print(\"\\n✅ Summary Metrics (Weighted Voting):\")\n",
        "print(f\"Accuracy :  {accuracy_score(all_labels_voting, all_preds_voting):.4f}\")\n",
        "print(f\"Precision:  {precision_score(all_labels_voting, all_preds_voting):.4f}\")\n",
        "print(f\"Recall   :  {recall_score(all_labels_voting, all_preds_voting):.4f}\")\n",
        "print(f\"F1 Score :  {f1_score(all_labels_voting, all_preds_voting):.4f}\")"
      ],
      "metadata": {
        "colab": {
          "base_uri": "https://localhost:8080/"
        },
        "id": "eNyy_nVJG4rF",
        "outputId": "ba4b235f-967c-4b35-a04d-b37f3610b871"
      },
      "execution_count": 16,
      "outputs": [
        {
          "output_type": "stream",
          "name": "stdout",
          "text": [
            "\n",
            "📊 Classification Report (Weighted Soft Voting):\n",
            "              precision    recall  f1-score   support\n",
            "\n",
            "  Legitimate       0.99      0.85      0.92      1000\n",
            "    Phishing       0.78      0.98      0.87       539\n",
            "\n",
            "    accuracy                           0.90      1539\n",
            "   macro avg       0.88      0.92      0.89      1539\n",
            "weighted avg       0.92      0.90      0.90      1539\n",
            "\n",
            "\n",
            "✅ Summary Metrics (Weighted Voting):\n",
            "Accuracy :  0.8973\n",
            "Precision:  0.7822\n",
            "Recall   :  0.9796\n",
            "F1 Score :  0.8699\n"
          ]
        }
      ]
    },
    {
      "cell_type": "code",
      "source": [
        "from sklearn.metrics import confusion_matrix, ConfusionMatrixDisplay\n",
        "import matplotlib.pyplot as plt\n",
        "\n",
        "cm_weighted = confusion_matrix(all_labels_voting, all_preds_voting)\n",
        "disp = ConfusionMatrixDisplay(confusion_matrix=cm_weighted, display_labels=[\"Legitimate\", \"Phishing\"])\n",
        "disp.plot(cmap=plt.cm.Blues)\n",
        "plt.title(\"Confusion Matrix - Weighted Soft Voting\")\n",
        "plt.show()"
      ],
      "metadata": {
        "colab": {
          "base_uri": "https://localhost:8080/",
          "height": 472
        },
        "id": "1NoUmoS7HD3R",
        "outputId": "dff24bb0-5477-4227-a8d5-717bc53d1cee"
      },
      "execution_count": 17,
      "outputs": [
        {
          "output_type": "display_data",
          "data": {
            "text/plain": [
              "<Figure size 640x480 with 2 Axes>"
            ],
            "image/png": "[encoded data removed]"
          },
          "metadata": {}
        }
      ]
    },
    {
      "cell_type": "code",
      "source": [
        "torch.save(model_res.state_dict(), \"resnet50_image.pth\")\n",
        "torch.save(model_eff.state_dict(), \"efficientnet_b0_image.pth\")\n",
        "torch.save(model_den.state_dict(), \"densenet121_image.pth\")"
      ],
      "metadata": {
        "id": "MJldnLPiCI7U"
      },
      "execution_count": 18,
      "outputs": []
    },
    {
      "cell_type": "code",
      "source": [
        "import torch\n",
        "import torch.nn.functional as F\n",
        "\n",
        "class ImageFusionWrapper:\n",
        "    def __init__(self, model_paths, f1_scores, device):\n",
        "        from torchvision.models import resnet50, efficientnet_b0, densenet121\n",
        "        from torchvision.models import ResNet50_Weights, EfficientNet_B0_Weights, DenseNet121_Weights\n",
        "        import torch.nn as nn\n",
        "\n",
        "        self.device = device\n",
        "        self.f1_scores = f1_scores\n",
        "        self.weights = [f / sum(f1_scores) for f in f1_scores]\n",
        "\n",
        "        # Load models from paths\n",
        "        self.models = []\n",
        "\n",
        "        # ResNet50\n",
        "        model_res = resnet50(weights=None)\n",
        "        model_res.fc = nn.Linear(model_res.fc.in_features, 2)\n",
        "        model_res.load_state_dict(torch.load(model_paths[0], map_location=device))\n",
        "        model_res.to(device).eval()\n",
        "        self.models.append(model_res)\n",
        "\n",
        "        # EfficientNet-B0\n",
        "        model_eff = efficientnet_b0(weights=None)\n",
        "        model_eff.classifier[1] = nn.Linear(model_eff.classifier[1].in_features, 2)\n",
        "        model_eff.load_state_dict(torch.load(model_paths[1], map_location=device))\n",
        "        model_eff.to(device).eval()\n",
        "        self.models.append(model_eff)\n",
        "\n",
        "        # DenseNet121\n",
        "        model_den = densenet121(weights=None)\n",
        "        model_den.classifier = nn.Linear(model_den.classifier.in_features, 2)\n",
        "        model_den.load_state_dict(torch.load(model_paths[2], map_location=device))\n",
        "        model_den.to(device).eval()\n",
        "        self.models.append(model_den)\n",
        "\n",
        "    def predict(self, dataloader):\n",
        "        all_preds = []\n",
        "        with torch.no_grad():\n",
        "            for inputs in dataloader:\n",
        "                if isinstance(inputs, (tuple, list)):\n",
        "                    inputs = inputs[0]\n",
        "                inputs = inputs.to(self.device)\n",
        "                probs = [F.softmax(m(inputs), dim=1) for m in self.models]\n",
        "                avg_prob = sum(w * p for w, p in zip(self.weights, probs))\n",
        "                preds = torch.argmax(avg_prob, dim=1)\n",
        "                all_preds.extend(preds.cpu().numpy())\n",
        "        return all_preds"
      ],
      "metadata": {
        "id": "ogXl5PGPA2AB"
      },
      "execution_count": 19,
      "outputs": []
    },
    {
      "cell_type": "code",
      "source": [],
      "metadata": {
        "id": "HWv5PgW5A2Yt"
      },
      "execution_count": 19,
      "outputs": []
    },
    {
      "cell_type": "code",
      "source": [
        "import joblib\n",
        "\n",
        "# Provide your actual paths and F1-scores here\n",
        "model_paths = [\n",
        "    \"resnet50_image.pth\",\n",
        "    \"efficientnet_b0_image.pth\",\n",
        "    \"densenet121_image.pth\"\n",
        "]\n",
        "\n",
        "f1_scores = [f1_resnet, f1_eff, f1_den]  # Use your actual values\n",
        "device = torch.device(\"cuda\" if torch.cuda.is_available() else \"cpu\")\n",
        "\n",
        "# Create the fusion model\n",
        "image_fusion_model = ImageFusionWrapper(model_paths, f1_scores, device)\n",
        "\n",
        "# Save the wrapper\n",
        "joblib.dump(image_fusion_model, \"image_fusion_model.pkl\")\n",
        "print(\"✅ Saved image fusion model as image_fusion_model.pkl\")"
      ],
      "metadata": {
        "colab": {
          "base_uri": "https://localhost:8080/"
        },
        "id": "-fipn9aSA2cM",
        "outputId": "f9df2efd-5c3d-4090-b797-6560d899bb52"
      },
      "execution_count": 20,
      "outputs": [
        {
          "output_type": "stream",
          "name": "stdout",
          "text": [
            "✅ Saved image fusion model as image_fusion_model.pkl\n"
          ]
        }
      ]
    },
    {
      "cell_type": "code",
      "source": [
        "import matplotlib.pyplot as plt\n",
        "\n",
        "# Example F1 scores (replace with your real values)\n",
        "f1_scores = {\n",
        "    \"ResNet50\": f1_resnet,\n",
        "    \"EfficientNet-B0\": f1_eff,\n",
        "    \"DenseNet121\": f1_den\n",
        "}\n",
        "\n",
        "plt.figure(figsize=(8, 5))\n",
        "plt.bar(f1_scores.keys(), f1_scores.values(), color=['skyblue', 'lightgreen', 'lightcoral'])\n",
        "plt.ylabel(\"F1 Score\")\n",
        "plt.title(\"F1 Score Comparison of Individual CNN Models\")\n",
        "plt.ylim(0, 1)\n",
        "plt.grid(axis='y', linestyle='--', alpha=0.7)\n",
        "plt.tight_layout()\n",
        "plt.show()"
      ],
      "metadata": {
        "colab": {
          "base_uri": "https://localhost:8080/",
          "height": 507
        },
        "id": "ZNi9HBdjQufW",
        "outputId": "f784df65-8607-4b95-d3a4-23f94f2f692d"
      },
      "execution_count": 21,
      "outputs": [
        {
          "output_type": "display_data",
          "data": {
            "text/plain": [
              "<Figure size 800x500 with 1 Axes>"
            ],
            "image/png": "[encoded data removed]"
          },
          "metadata": {}
        }
      ]
    },
    {
      "cell_type": "code",
      "source": [
        "weights = [f / sum(f1_scores.values()) for f in f1_scores.values()]\n",
        "labels = list(f1_scores.keys())\n",
        "\n",
        "plt.figure(figsize=(6, 6))\n",
        "plt.pie(weights, labels=labels, autopct=\"%1.1f%%\", startangle=140, colors=['skyblue', 'lightgreen', 'lightcoral'])\n",
        "plt.title(\"Weighted Contribution of Each CNN Model to Fusion\")\n",
        "plt.tight_layout()\n",
        "plt.show()"
      ],
      "metadata": {
        "id": "TFEuEoAWSAKf",
        "colab": {
          "base_uri": "https://localhost:8080/",
          "height": 573
        },
        "outputId": "2eb8b8bd-a1ae-4452-f92f-bf5a1defcb0e"
      },
      "execution_count": 22,
      "outputs": [
        {
          "output_type": "display_data",
          "data": {
            "text/plain": [
              "<Figure size 600x600 with 1 Axes>"
            ],
            "image/png": "[encoded data removed]"
          },
          "metadata": {}
        }
      ]
    }
  ]
}