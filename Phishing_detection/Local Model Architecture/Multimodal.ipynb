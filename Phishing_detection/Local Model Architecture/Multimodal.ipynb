{
  "cells": [
    {
      "cell_type": "code",
      "execution_count": 37,
      "id": "XuiiJZlL1KMk",
      "metadata": {
        "id": "XuiiJZlL1KMk"
      },
      "outputs": [],
      "source": [
        "#!pip install tldextract catboost"
      ]
    },
    {
      "cell_type": "code",
      "execution_count": 38,
      "id": "OFnJUfI31nnA",
      "metadata": {
        "id": "OFnJUfI31nnA",
        "colab": {
          "base_uri": "https://localhost:8080/"
        },
        "outputId": "c5481196-bbba-4734-d64e-112110113eb7"
      },
      "outputs": [
        {
          "output_type": "stream",
          "name": "stdout",
          "text": [
            "Drive already mounted at /content/drive; to attempt to forcibly remount, call drive.mount(\"/content/drive\", force_remount=True).\n"
          ]
        }
      ],
      "source": [
        "from google.colab import drive\n",
        "drive.mount('/content/drive')"
      ]
    },
    {
      "cell_type": "code",
      "execution_count": 39,
      "id": "26383f9c",
      "metadata": {
        "id": "26383f9c"
      },
      "outputs": [],
      "source": [
        "import numpy as np\n",
        "import pandas as pd\n",
        "import re\n",
        "import joblib\n",
        "import torch\n",
        "from PIL import Image\n",
        "from torchvision import transforms\n",
        "from urllib.parse import urlparse\n",
        "import tldextract\n",
        "import torch\n",
        "import torch.nn.functional as F\n",
        "from tensorflow.keras.preprocessing.sequence import pad_sequences\n"
      ]
    },
    {
      "cell_type": "code",
      "execution_count": 40,
      "id": "72623ca1",
      "metadata": {
        "id": "72623ca1"
      },
      "outputs": [],
      "source": [
        "class FusionModel:\n",
        "    def __init__(self, models, tfid, bert_model, tokenizer, f1_weights, device):\n",
        "        self.models = models\n",
        "        self.tfid = tfid\n",
        "        self.bert_model = bert_model\n",
        "        self.tokenizer = tokenizer\n",
        "        self.f1_weights = f1_weights\n",
        "        self.device = device\n",
        "\n",
        "    def predict_proba(self, texts):\n",
        "        model_probs = []\n",
        "\n",
        "        # Traditional models\n",
        "        tfidf_vec = self.tfid.transform(texts)\n",
        "        for name in self.models:\n",
        "            probs = self.models[name].predict_proba(tfidf_vec)[:, 1]\n",
        "            model_probs.append(probs)\n",
        "\n",
        "        # BERT\n",
        "        self.bert_model.eval()\n",
        "        bert_probs = []\n",
        "        with torch.no_grad():\n",
        "            for i in range(0, len(texts), 16):\n",
        "                batch = texts[i:i+16]\n",
        "                inputs = self.tokenizer(batch, padding=True, truncation=True, max_length=128, return_tensors='pt').to(self.device)\n",
        "                logits = self.bert_model(**inputs).logits\n",
        "                probs = torch.softmax(logits, dim=1)[:, 1]\n",
        "                bert_probs.extend(probs.cpu().numpy())\n",
        "        model_probs.append(np.array(bert_probs))\n",
        "\n",
        "        # Weighted soft voting\n",
        "        weights = np.array(list(self.f1_weights.values())).reshape(-1, 1)\n",
        "        all_probs = np.array(model_probs)\n",
        "        return np.sum(all_probs * weights, axis=0) / np.sum(weights)\n",
        "\n",
        "    def predict(self, texts):\n",
        "        probs = self.predict_proba(texts)\n",
        "        return (probs >= 0.5).astype(int)"
      ]
    },
    {
      "cell_type": "code",
      "execution_count": 41,
      "id": "955977b1",
      "metadata": {
        "id": "955977b1"
      },
      "outputs": [],
      "source": [
        "class URLFusionModel:\n",
        "    def __init__(self, traditional_models, cnn_model, bert_model, tokenizer, scaler, f1_weights, device, max_length=100):\n",
        "        self.models = traditional_models\n",
        "        self.cnn_model = cnn_model\n",
        "        self.bert_model = bert_model\n",
        "        self.tokenizer = tokenizer\n",
        "        self.scaler = scaler\n",
        "        self.f1_weights = f1_weights\n",
        "        self.device = device\n",
        "        self.max_length = max_length\n",
        "\n",
        "    def _extract_url_features(self, urls):\n",
        "\n",
        "        features = []\n",
        "        for url in urls:\n",
        "            parsed_url = urlparse(url)\n",
        "            domain_info = tldextract.extract(url)\n",
        "            features.append([\n",
        "                len(url),\n",
        "                len(parsed_url.netloc),\n",
        "                len(parsed_url.path),\n",
        "                url.count('.'),\n",
        "                url.count('-'),\n",
        "                url.count('/'),\n",
        "                url.count('?'),\n",
        "                url.count('&'),\n",
        "                url.count('='),\n",
        "                1 if re.search(r'\\d{1,3}\\.\\d{1,3}\\.\\d{1,3}\\.\\d{1,3}', url) else 0,\n",
        "                1 if domain_info.suffix in [\"xyz\", \"tk\", \"ml\", \"ga\", \"cf\"] else 0\n",
        "            ])\n",
        "\n",
        "        feature_names = [\n",
        "            \"length_url\", \"length_hostname\", \"length_path\", \"nb_dots\", \"nb_hyphens\",\n",
        "            \"nb_slash\", \"nb_qm\", \"nb_and\", \"nb_eq\", \"has_ip_address\", \"suspicious_tld\"\n",
        "        ]\n",
        "\n",
        "        scaled = self.scaler.transform(features)\n",
        "        return pd.DataFrame(scaled, columns=feature_names)\n",
        "\n",
        "    def _convert_to_seq(self, urls):\n",
        "        seqs = [[min(ord(char), 255) for char in url[:self.max_length]] for url in urls]\n",
        "        return pad_sequences(seqs, maxlen=self.max_length, padding='post', truncating='post')\n",
        "\n",
        "    def predict_proba(self, urls):\n",
        "        ml_features = self._extract_url_features(urls)\n",
        "        seq_features = self._convert_to_seq(urls)\n",
        "\n",
        "        model_probs = []\n",
        "\n",
        "        for name, model in self.models.items():\n",
        "            probs = model.predict_proba(ml_features)[:, 1]\n",
        "            model_probs.append(probs)\n",
        "\n",
        "        cnn_probs = self.cnn_model.predict(seq_features).flatten()\n",
        "        model_probs.append(cnn_probs)\n",
        "\n",
        "        self.bert_model.eval()\n",
        "        bert_probs = []\n",
        "        with torch.no_grad():\n",
        "            for i in range(0, len(urls), 16):\n",
        "                batch = urls[i:i+16]\n",
        "                inputs = self.tokenizer(batch, padding=True, truncation=True, max_length=128, return_tensors='pt').to(self.device)\n",
        "                logits = self.bert_model(**inputs).logits\n",
        "                probs = torch.softmax(logits, dim=1)[:, 1]\n",
        "                bert_probs.extend(probs.cpu().numpy())\n",
        "        model_probs.append(np.array(bert_probs))\n",
        "\n",
        "        weights = np.array(list(self.f1_weights.values())).reshape(-1, 1)\n",
        "        all_probs = np.array(model_probs)\n",
        "        return np.sum(all_probs * weights, axis=0) / np.sum(weights)\n",
        "\n",
        "    def predict(self, urls, threshold=0.5):\n",
        "        probs = self.predict_proba(urls)\n",
        "        return (probs >= threshold).astype(int)"
      ]
    },
    {
      "cell_type": "code",
      "source": [
        "class ImageFusionWrapper:\n",
        "    def __init__(self, model_paths, f1_scores, device):\n",
        "        from torchvision.models import resnet50, efficientnet_b0, densenet121\n",
        "        from torchvision.models import ResNet50_Weights, EfficientNet_B0_Weights, DenseNet121_Weights\n",
        "        import torch.nn as nn\n",
        "\n",
        "        self.device = device\n",
        "        self.f1_scores = f1_scores\n",
        "        self.weights = [f / sum(f1_scores) for f in f1_scores]\n",
        "\n",
        "        # Load models from paths\n",
        "        self.models = []\n",
        "\n",
        "        # ResNet50\n",
        "        model_res = resnet50(weights=None)\n",
        "        model_res.fc = nn.Linear(model_res.fc.in_features, 2)\n",
        "        model_res.load_state_dict(torch.load(model_paths[0], map_location=device))\n",
        "        model_res.to(device).eval()\n",
        "        self.models.append(model_res)\n",
        "\n",
        "        # EfficientNet-B0\n",
        "        model_eff = efficientnet_b0(weights=None)\n",
        "        model_eff.classifier[1] = nn.Linear(model_eff.classifier[1].in_features, 2)\n",
        "        model_eff.load_state_dict(torch.load(model_paths[1], map_location=device))\n",
        "        model_eff.to(device).eval()\n",
        "        self.models.append(model_eff)\n",
        "\n",
        "        # DenseNet121\n",
        "        model_den = densenet121(weights=None)\n",
        "        model_den.classifier = nn.Linear(model_den.classifier.in_features, 2)\n",
        "        model_den.load_state_dict(torch.load(model_paths[2], map_location=device))\n",
        "        model_den.to(device).eval()\n",
        "        self.models.append(model_den)\n",
        "\n",
        "    def predict(self, dataloader):\n",
        "        all_preds = []\n",
        "        with torch.no_grad():\n",
        "            for inputs in dataloader:\n",
        "                if isinstance(inputs, (tuple, list)):\n",
        "                    inputs = inputs[0]\n",
        "                inputs = inputs.to(self.device)\n",
        "                probs = [F.softmax(m(inputs), dim=1) for m in self.models]\n",
        "                avg_prob = sum(w * p for w, p in zip(self.weights, probs))\n",
        "                preds = torch.argmax(avg_prob, dim=1)\n",
        "                all_preds.extend(preds.cpu().numpy())\n",
        "        return all_preds"
      ],
      "metadata": {
        "id": "b2LA1Pyk_tby"
      },
      "id": "b2LA1Pyk_tby",
      "execution_count": 42,
      "outputs": []
    },
    {
      "cell_type": "code",
      "execution_count": 43,
      "id": "59a33353",
      "metadata": {
        "id": "59a33353"
      },
      "outputs": [],
      "source": [
        "email_model_path = \"/content/drive/My Drive/Phishing_Models/fusion_model_email.pkl\"\n",
        "url_model_path = \"/content/drive/My Drive/Phishing_Models/fusion_model_url.pkl\"\n",
        "image_model_path = \"/content/drive/My Drive/Phishing_Models/image_fusion_model.pkl\"\n",
        "\n",
        "\n",
        "fusion_model = joblib.load(email_model_path)\n",
        "fusion_url_model_obj = joblib.load(url_model_path)\n",
        "fusion_image_model = joblib.load(image_model_path)"
      ]
    },
    {
      "cell_type": "code",
      "execution_count": 44,
      "id": "555c411c",
      "metadata": {
        "id": "555c411c"
      },
      "outputs": [],
      "source": [
        "def is_valid_image_tensor(image_tensor):\n",
        "    return (\n",
        "        isinstance(image_tensor, torch.Tensor)\n",
        "        and image_tensor.shape == (3, 224, 224)\n",
        "        and torch.any(image_tensor)\n",
        "    )"
      ]
    },
    {
      "cell_type": "code",
      "execution_count": 45,
      "id": "cqaMTRai02VJ",
      "metadata": {
        "id": "cqaMTRai02VJ"
      },
      "outputs": [],
      "source": [
        "# === Cell 1 ===\n",
        "\n",
        "class MultimodalPhishingDetector:\n",
        "    def __init__(self, email_model, url_model, image_model):\n",
        "        self.email_model = email_model\n",
        "        self.url_model = url_model\n",
        "        self.image_model = image_model\n",
        "\n",
        "    def predict_proba(self, email_text=None, url=None, image_tensor=None):\n",
        "        \"\"\"\n",
        "        Get phishing probability from email, URL, or both.\n",
        "        :return: dict with phishing probabilities\n",
        "        \"\"\"\n",
        "        email_prob = None\n",
        "        url_prob = None\n",
        "        image_prob = None\n",
        "\n",
        "        if email_text:\n",
        "            email_prob = self.email_model.predict_proba([email_text])[0]\n",
        "        if url:\n",
        "            url_prob = self.url_model.predict_proba([url])[0]\n",
        "\n",
        "        image_prob = None\n",
        "        if image_tensor is not None and is_valid_image_tensor(image_tensor):\n",
        "            image_tensor = image_tensor.unsqueeze(0)\n",
        "            dummy_loader = [(image_tensor,)]\n",
        "            image_pred = self.image_model.predict(dummy_loader)\n",
        "            image_prob = 1.0 if image_pred[0] == 1 else 0.0\n",
        "\n",
        "        if email_prob is None and url_prob is None and image_prob is None:\n",
        "            raise ValueError(\"Provide at least `email_text` or `url` or 'image'.\")\n",
        "\n",
        "        return {\n",
        "            \"email_prob\": email_prob,\n",
        "            \"url_prob\": url_prob,\n",
        "            \"image_prob\": image_prob\n",
        "        }\n",
        "\n",
        "    def predict(self, email_text=None, url=None, image_tensor=None, threshold=0.5, return_prob=False):\n",
        "      probs = self.predict_proba(email_text=email_text, url=url, image_tensor=image_tensor)\n",
        "\n",
        "      email_prob = probs.get(\"email_prob\")\n",
        "      url_prob = probs.get(\"url_prob\")\n",
        "      image_prob = probs.get(\"image_prob\")\n",
        "\n",
        "      inputs_used = [p for p in [email_prob, url_prob, image_prob] if p is not None]\n",
        "\n",
        "      # 🛑 If no inputs are provided\n",
        "      if not inputs_used:\n",
        "          if return_prob:\n",
        "              return None, None, email_prob, url_prob, image_prob\n",
        "          else:\n",
        "              return None\n",
        "\n",
        "      # ✅ If any one input says phishing\n",
        "      label = 1 if any(p >= threshold for p in inputs_used) else 0\n",
        "      final_prob = max(inputs_used)\n",
        "\n",
        "      if return_prob:\n",
        "          return label, final_prob, email_prob, url_prob, image_prob\n",
        "      else:\n",
        "          return label"
      ]
    },
    {
      "cell_type": "code",
      "execution_count": 46,
      "id": "p7b53VAw064Z",
      "metadata": {
        "id": "p7b53VAw064Z",
        "colab": {
          "base_uri": "https://localhost:8080/"
        },
        "outputId": "1e3cc3b0-fc13-4404-ecfa-2422bfb90877"
      },
      "outputs": [
        {
          "output_type": "stream",
          "name": "stdout",
          "text": [
            "Image Valid: True\n"
          ]
        }
      ],
      "source": [
        "multi_model = MultimodalPhishingDetector(\n",
        "    email_model=fusion_model,\n",
        "    url_model=fusion_url_model_obj,\n",
        "    image_model=fusion_image_model\n",
        ")\n",
        "\n",
        "print(f\"Image Valid: {is_valid_image_tensor(image_tensor)}\")"
      ]
    },
    {
      "cell_type": "code",
      "source": [
        "import matplotlib.pyplot as plt\n",
        "\n",
        "def plot_prediction_probs(email_prob=None, url_prob=None, image_prob=None):\n",
        "    labels = []\n",
        "    values = []\n",
        "    colors = []\n",
        "\n",
        "    if email_prob is not None:\n",
        "        labels.append(\"Email\")\n",
        "        values.append(email_prob)\n",
        "        colors.append(\"skyblue\")\n",
        "\n",
        "    if url_prob is not None:\n",
        "        labels.append(\"URL\")\n",
        "        values.append(url_prob)\n",
        "        colors.append(\"orange\")\n",
        "\n",
        "    if image_prob is not None:\n",
        "        labels.append(\"Image\")\n",
        "        values.append(image_prob)\n",
        "        colors.append(\"green\")\n",
        "\n",
        "    if not values:\n",
        "        print(\"⚠️ No valid inputs to visualize.\")\n",
        "        return\n",
        "\n",
        "    plt.figure(figsize=(6, 4))\n",
        "    bars = plt.bar(labels, values, color=colors)\n",
        "    plt.axhline(0.5, color='red', linestyle='--', label=\"Phishing Threshold (0.5)\")\n",
        "    plt.title(\"Prediction Confidence per Modality\")\n",
        "    plt.ylim(0, 1)\n",
        "    plt.ylabel(\"Probability (0 = Safe, 1 = Phishing)\")\n",
        "    plt.legend()\n",
        "    plt.grid(True, axis='y')\n",
        "\n",
        "    for bar in bars:\n",
        "        yval = bar.get_height()\n",
        "        plt.text(bar.get_x() + bar.get_width()/2, yval + 0.02, f\"{yval:.2f}\", ha='center', va='bottom')\n",
        "\n",
        "    plt.tight_layout()\n",
        "    plt.show()"
      ],
      "metadata": {
        "id": "8mADhxrFg28w"
      },
      "id": "8mADhxrFg28w",
      "execution_count": 63,
      "outputs": []
    },
    {
      "cell_type": "code",
      "execution_count": 64,
      "id": "jSMQHQ6407_q",
      "metadata": {
        "id": "jSMQHQ6407_q"
      },
      "outputs": [],
      "source": [
        "def test_multimodal_input(multi_model, email_text=None, url=None, image_tensor=None, threshold=0.5):\n",
        "    \"\"\"\n",
        "    Predict phishing using any combination of email, URL, and image.\n",
        "    Shows final label and individual confidence scores.\n",
        "    \"\"\"\n",
        "    # ✅ Check if image is valid before using\n",
        "    image_valid = is_valid_image_tensor(image_tensor)\n",
        "    image_tensor_to_use = image_tensor if image_valid else None\n",
        "\n",
        "    # Perform prediction\n",
        "    label, final_prob, email_prob, url_prob, image_prob = multi_model.predict(\n",
        "        email_text=email_text,\n",
        "        url=url,\n",
        "        image_tensor=image_tensor_to_use,\n",
        "        threshold=threshold,\n",
        "        return_prob=True\n",
        "    )\n",
        "\n",
        "    # Determine input type used\n",
        "    used = []\n",
        "    if email_text: used.append(\"EMAIL\")\n",
        "    if url: used.append(\"URL\")\n",
        "    if image_valid: used.append(\"IMAGE\")\n",
        "    input_type = \" + \".join(used)\n",
        "\n",
        "    # === Final Overall Result ===\n",
        "    if label is None:\n",
        "        print(\"\\n⚠️ No input provided. Please provide at least an email, URL, or image.\")\n",
        "        return\n",
        "\n",
        "    # === Final Overall Result ===\n",
        "    status = \"PHISHING\" if label == 1 else \"SAFE\"\n",
        "    print(f\"\\n🔎 [{input_type}] ➤ Final Prediction: {status} (Final Confidence: {final_prob:.4f})\")\n",
        "\n",
        "    # === Per Modality Breakdown ===\n",
        "    if email_prob is not None:\n",
        "        email_status = \"Phishing\" if email_prob >= threshold else \"Safe\"\n",
        "        print(f\"   - 📧 Email:  {email_status} (Confidence: {email_prob:.4f})\")\n",
        "\n",
        "    if url_prob is not None:\n",
        "        url_status = \"Phishing\" if url_prob >= threshold else \"Safe\"\n",
        "        print(f\"   - 🔗 URL:    {url_status} (Confidence: {url_prob:.4f})\")\n",
        "\n",
        "    if image_valid:\n",
        "        image_status = \"Phishing\" if image_prob == 1.0 else \"Safe\"\n",
        "        print(f\"   - 🖼️ Image:  {image_status} (Prediction: {int(image_prob)})\")\n",
        "\n",
        "    plot_prediction_probs(email_prob=email_prob, url_prob=url_prob, image_prob=image_prob)"
      ]
    },
    {
      "cell_type": "code",
      "execution_count": 65,
      "id": "oFSvhwIk52Eg",
      "metadata": {
        "id": "oFSvhwIk52Eg"
      },
      "outputs": [],
      "source": [
        "def load_image_tensor(img_path):\n",
        "    image = Image.open(img_path).convert(\"RGB\")\n",
        "    transform = transforms.Compose([\n",
        "        transforms.Resize((224, 224)),\n",
        "        transforms.ToTensor()\n",
        "    ])\n",
        "    return transform(image)\n",
        "\n",
        "\n",
        "\n"
      ]
    },
    {
      "cell_type": "code",
      "source": [
        "image_tensor = None  # Clear old image\n",
        "print(f\"Image Valid: {is_valid_image_tensor(image_tensor)}\")\n",
        "#image_tensor = load_image_tensor(\"/content/amazon (4).png\")\n",
        "test_multimodal_input(\n",
        "    multi_model,\n",
        "    email_text=\"hi your meeting is scheduled\",\n",
        "    url=\"http://www.amazon.com\",\n",
        "    image_tensor=image_tensor\n",
        ")"
      ],
      "metadata": {
        "colab": {
          "base_uri": "https://localhost:8080/",
          "height": 563
        },
        "id": "bhA4rK-mEiTI",
        "outputId": "df781bb6-c751-4342-9f7e-6ff0ba9e9da1"
      },
      "id": "bhA4rK-mEiTI",
      "execution_count": 67,
      "outputs": [
        {
          "output_type": "stream",
          "name": "stdout",
          "text": [
            "Image Valid: False\n",
            "\u001b[1m1/1\u001b[0m \u001b[32m━━━━━━━━━━━━━━━━━━━━\u001b[0m\u001b[37m\u001b[0m \u001b[1m0s\u001b[0m 35ms/step\n"
          ]
        },
        {
          "output_type": "stream",
          "name": "stderr",
          "text": [
            "/usr/local/lib/python3.11/dist-packages/sklearn/utils/validation.py:2739: UserWarning: X does not have valid feature names, but StandardScaler was fitted with feature names\n",
            "  warnings.warn(\n"
          ]
        },
        {
          "output_type": "stream",
          "name": "stdout",
          "text": [
            "\n",
            "🔎 [EMAIL + URL + IMAGE] ➤ Final Prediction: PHISHING (Final Confidence: 1.0000)\n",
            "   - 📧 Email:  Safe (Confidence: 0.1411)\n",
            "   - 🔗 URL:    Safe (Confidence: 0.0989)\n",
            "   - 🖼️ Image:  Phishing (Prediction: 1)\n"
          ]
        },
        {
          "output_type": "display_data",
          "data": {
            "text/plain": [
              "<Figure size 600x400 with 1 Axes>"
            ],
            "image/png": "[encoded data removed]"
          },
          "metadata": {}
        }
      ]
    },
    {
      "cell_type": "code",
      "source": [],
      "metadata": {
        "id": "PxsQ2L6MF-YN"
      },
      "id": "PxsQ2L6MF-YN",
      "execution_count": 62,
      "outputs": []
    },
    {
      "cell_type": "code",
      "source": [],
      "metadata": {
        "id": "2if7GAnbHBdM"
      },
      "id": "2if7GAnbHBdM",
      "execution_count": 49,
      "outputs": []
    }
  ],
  "metadata": {
    "accelerator": "GPU",
    "colab": {
      "gpuType": "T4",
      "provenance": [],
      "machine_shape": "hm"
    },
    "kernelspec": {
      "display_name": "Python 3",
      "name": "python3"
    },
    "language_info": {
      "codemirror_mode": {
        "name": "ipython",
        "version": 3
      },
      "file_extension": ".py",
      "mimetype": "text/x-python",
      "name": "python",
      "nbconvert_exporter": "python",
      "pygments_lexer": "ipython3",
      "version": "3.11.7"
    }
  },
  "nbformat": 4,
  "nbformat_minor": 5
}