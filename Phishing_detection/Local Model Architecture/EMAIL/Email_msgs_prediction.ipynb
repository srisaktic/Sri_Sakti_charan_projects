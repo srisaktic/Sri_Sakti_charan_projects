{
  "cells": [
    {
      "cell_type": "code",
      "source": [],
      "metadata": {
        "id": "OAacwyHJxTNt"
      },
      "execution_count": null,
      "outputs": []
    },
    {
      "cell_type": "code",
      "execution_count": 1,
      "metadata": {
        "colab": {
          "base_uri": "https://localhost:8080/"
        },
        "id": "bLcYAkzyXhpS",
        "outputId": "c3a6668d-f968-487f-d055-b1fc3b84dd0d"
      },
      "outputs": [
        {
          "output_type": "stream",
          "name": "stderr",
          "text": [
            "[nltk_data] Downloading package stopwords to /root/nltk_data...\n",
            "[nltk_data]   Unzipping corpora/stopwords.zip.\n",
            "[nltk_data] Downloading package punkt to /root/nltk_data...\n",
            "[nltk_data]   Unzipping tokenizers/punkt.zip.\n",
            "[nltk_data] Downloading package wordnet to /root/nltk_data...\n",
            "[nltk_data] Downloading package punkt_tab to /root/nltk_data...\n",
            "[nltk_data]   Unzipping tokenizers/punkt_tab.zip.\n"
          ]
        },
        {
          "output_type": "execute_result",
          "data": {
            "text/plain": [
              "True"
            ]
          },
          "metadata": {},
          "execution_count": 1
        }
      ],
      "source": [
        "import pandas as pd\n",
        "import numpy as np\n",
        "import re\n",
        "import string\n",
        "import nltk\n",
        "import matplotlib.pyplot as plt\n",
        "import seaborn as sns\n",
        "from wordcloud import WordCloud\n",
        "from collections import Counter\n",
        "from nltk.corpus import stopwords\n",
        "from nltk.tokenize import word_tokenize\n",
        "from sklearn.feature_extraction.text import TfidfVectorizer\n",
        "from sklearn.model_selection import train_test_split\n",
        "from sklearn.linear_model import LogisticRegression\n",
        "from sklearn.ensemble import RandomForestClassifier\n",
        "from xgboost import XGBClassifier\n",
        "from sklearn.svm import SVC\n",
        "from sklearn.naive_bayes import MultinomialNB\n",
        "from sklearn.metrics import accuracy_score, precision_score, recall_score, f1_score, confusion_matrix, classification_report\n",
        "from transformers import BertTokenizer, BertForSequenceClassification\n",
        "import torch\n",
        "from torch.utils.data import DataLoader, Dataset\n",
        "from sklearn.utils import resample\n",
        "\n",
        "# Download necessary NLTK data\n",
        "nltk.download('stopwords')\n",
        "nltk.download('punkt')\n",
        "nltk.download('wordnet')\n",
        "# Download the 'punkt_tab' tokenizer data\n",
        "nltk.download('punkt_tab')  # Add this line to download the missing data"
      ]
    },
    {
      "cell_type": "code",
      "execution_count": 2,
      "metadata": {
        "colab": {
          "base_uri": "https://localhost:8080/"
        },
        "id": "wLhdAZGcXjlA",
        "outputId": "69cc7c50-b819-49b0-a3b4-b08c81000480"
      },
      "outputs": [
        {
          "output_type": "stream",
          "name": "stdout",
          "text": [
            "✅ Duplicate rows removed! New dataset shape: (17536, 2)\n"
          ]
        },
        {
          "output_type": "stream",
          "name": "stderr",
          "text": [
            "<ipython-input-2-be05bfb5c8e7>:8: FutureWarning: A value is trying to be set on a copy of a DataFrame or Series through chained assignment using an inplace method.\n",
            "The behavior will change in pandas 3.0. This inplace method will never work because the intermediate object on which we are setting values always behaves as a copy.\n",
            "\n",
            "For example, when doing 'df[col].method(value, inplace=True)', try using 'df.method({col: value}, inplace=True)' or df[col] = df[col].method(value) instead, to perform the operation inplace on the original object.\n",
            "\n",
            "\n",
            "  data['Email Text'].replace('empty', np.nan, inplace=True)\n"
          ]
        }
      ],
      "source": [
        "# Load dataset\n",
        "data = pd.read_csv('Phishing_Email.csv')\n",
        "\n",
        "# Drop the unnecessary column (if present)\n",
        "data = data.drop(columns=[\"Unnamed: 0\"], errors=\"ignore\")\n",
        "\n",
        "# Replace 'empty' with NaN\n",
        "data['Email Text'].replace('empty', np.nan, inplace=True)\n",
        "\n",
        "# Fill missing values with most frequent text\n",
        "freq = data['Email Text'].mode()[0]\n",
        "data['Email Text'] = data['Email Text'].fillna(freq)\n",
        "\n",
        "# Remove duplicates\n",
        "data = data.drop_duplicates(subset=['Email Text'], keep='first')\n",
        "print(f\"✅ Duplicate rows removed! New dataset shape: {data.shape}\")\n",
        "\n",
        "# Text Preprocessing\n",
        "stopwords_set = set(stopwords.words('english'))\n",
        "lemmatizer = nltk.WordNetLemmatizer()\n"
      ]
    },
    {
      "cell_type": "code",
      "execution_count": 3,
      "metadata": {
        "colab": {
          "base_uri": "https://localhost:8080/"
        },
        "id": "SQ8rFwXWXw8_",
        "outputId": "72c3b84e-8316-4670-97ca-f6a1a7fbec14"
      },
      "outputs": [
        {
          "output_type": "stream",
          "name": "stdout",
          "text": [
            "Cleaned dataset saved successfully!\n"
          ]
        }
      ],
      "source": [
        "\n",
        "def cleaning_text(text):\n",
        "    text = str(text).lower()\n",
        "    text = re.sub('<.*?>', '', text)  # Remove HTML tags\n",
        "    text = re.sub(r'https?://\\S+|www\\.\\S+', '', text)  # Remove URLs\n",
        "    text = re.sub(r'[^a-zA-Z\\s]', '', text)  # Remove special characters\n",
        "    text = re.sub(r'\\s+', ' ', text)  # Remove extra spaces\n",
        "    words = word_tokenize(text)\n",
        "    words = [lemmatizer.lemmatize(word) for word in words if word not in stopwords_set]\n",
        "    return ' '.join(words)\n",
        "\n",
        "# Apply text cleaning\n",
        "data = data.copy()\n",
        "data.loc[:, 'clean_email'] = data['Email Text'].apply(cleaning_text)\n",
        "\n",
        "# Convert labels to binary\n",
        "data['Email Type'] = data['Email Type'].map({'Safe Email': 0, 'Phishing Email': 1})\n",
        "\n",
        "data = data.drop(columns=[\"Email Text\"], errors=\"ignore\")\n",
        "\n",
        "# Save cleaned dataset\n",
        "data.to_csv(\"cleaned_phishing_email.csv\", index=False)\n",
        "print(\"Cleaned dataset saved successfully!\")\n",
        "\n",
        "# TF-IDF Vectorization\n",
        "tfid = TfidfVectorizer()\n",
        "tfid.fit(data['clean_email'].values)\n",
        "matrix = tfid.transform(data['clean_email'].values)\n",
        "\n",
        "# Split Data\n",
        "x_train, x_test, y_train, y_test = train_test_split(matrix, data['Email Type'], test_size=0.33, random_state=42)\n"
      ]
    },
    {
      "cell_type": "code",
      "execution_count": 4,
      "metadata": {
        "colab": {
          "base_uri": "https://localhost:8080/",
          "height": 466
        },
        "id": "WW2nTMA7YIn7",
        "outputId": "8bb4a9f8-8928-4211-a701-d04c75ab333e"
      },
      "outputs": [
        {
          "output_type": "execute_result",
          "data": {
            "text/plain": [
              "<Axes: xlabel='Email Type', ylabel='count'>"
            ]
          },
          "metadata": {},
          "execution_count": 4
        },
        {
          "output_type": "display_data",
          "data": {
            "text/plain": [
              "<Figure size 640x480 with 1 Axes>"
            ],
            "image/png": "[encoded data removed]"
          },
          "metadata": {}
        }
      ],
      "source": [
        "sns.countplot(data=data,x='Email Type')"
      ]
    },
    {
      "cell_type": "code",
      "execution_count": 5,
      "metadata": {
        "colab": {
          "base_uri": "https://localhost:8080/"
        },
        "id": "q6P5Ps_-YahS",
        "outputId": "50fac074-3ae7-4146-d228-e021e3585e0e"
      },
      "outputs": [
        {
          "output_type": "stream",
          "name": "stdout",
          "text": [
            "Using CUDA for acceleration\n"
          ]
        }
      ],
      "source": [
        "import torch\n",
        "import pandas as pd\n",
        "from transformers import BertTokenizer, BertForSequenceClassification\n",
        "from torch.optim import AdamW\n",
        "from torch.utils.data import DataLoader, TensorDataset\n",
        "from sklearn.model_selection import train_test_split\n",
        "from sklearn.metrics import accuracy_score, precision_score, recall_score, f1_score, confusion_matrix\n",
        "from sklearn.linear_model import LogisticRegression\n",
        "from sklearn.naive_bayes import MultinomialNB\n",
        "from sklearn.svm import SVC\n",
        "from sklearn.ensemble import RandomForestClassifier, VotingClassifier\n",
        "from xgboost import XGBClassifier\n",
        "from sklearn.feature_extraction.text import TfidfVectorizer\n",
        "import matplotlib.pyplot as plt\n",
        "from mlxtend.plotting import plot_confusion_matrix\n",
        "import joblib\n",
        "import os\n",
        "import numpy as np\n",
        "\n",
        "# ✅ Check Apple MPS (Mac M3) or CUDA availability\n",
        "if torch.backends.mps.is_available():\n",
        "    device = torch.device(\"mps\")\n",
        "    print(\"Using Apple MPS for acceleration\")\n",
        "elif torch.cuda.is_available():\n",
        "    device = torch.device(\"cuda\")\n",
        "    print(\"Using CUDA for acceleration\")\n",
        "else:\n",
        "    device = torch.device(\"cpu\")\n",
        "    print(\"Using CPU\")\n",
        "\n"
      ]
    },
    {
      "cell_type": "code",
      "execution_count": 6,
      "metadata": {
        "id": "56GMoaDKg2ei",
        "colab": {
          "base_uri": "https://localhost:8080/"
        },
        "outputId": "22a9aa9b-233d-4ff1-8872-ae5a095ddfb2"
      },
      "outputs": [
        {
          "output_type": "stream",
          "name": "stderr",
          "text": [
            "<ipython-input-6-5e5113457d67>:4: SettingWithCopyWarning: \n",
            "A value is trying to be set on a copy of a slice from a DataFrame.\n",
            "Try using .loc[row_indexer,col_indexer] = value instead\n",
            "\n",
            "See the caveats in the documentation: https://pandas.pydata.org/pandas-docs/stable/user_guide/indexing.html#returning-a-view-versus-a-copy\n",
            "  df[\"clean_email\"] = df[\"clean_email\"].astype(str)\n",
            "<ipython-input-6-5e5113457d67>:5: SettingWithCopyWarning: \n",
            "A value is trying to be set on a copy of a slice from a DataFrame.\n",
            "Try using .loc[row_indexer,col_indexer] = value instead\n",
            "\n",
            "See the caveats in the documentation: https://pandas.pydata.org/pandas-docs/stable/user_guide/indexing.html#returning-a-view-versus-a-copy\n",
            "  df[\"Email Type\"] = df[\"Email Type\"].astype(int)\n"
          ]
        }
      ],
      "source": [
        "# ✅ Load dataset\n",
        "df = pd.read_csv(\"cleaned_phishing_email.csv\", usecols=[\"clean_email\", \"Email Type\"])\n",
        "df = df.dropna(subset=[\"clean_email\"])\n",
        "df[\"clean_email\"] = df[\"clean_email\"].astype(str)\n",
        "df[\"Email Type\"] = df[\"Email Type\"].astype(int)\n",
        "\n",
        "# ✅ Train-test split\n",
        "train_texts, test_texts, train_labels, test_labels = train_test_split(\n",
        "    df[\"clean_email\"].values, df[\"Email Type\"].values, test_size=0.33, random_state=42, stratify=df[\"Email Type\"]\n",
        ")\n",
        "\n"
      ]
    },
    {
      "cell_type": "code",
      "execution_count": 7,
      "metadata": {
        "colab": {
          "base_uri": "https://localhost:8080/"
        },
        "id": "xsmKnfXtg9f0",
        "outputId": "3409ab25-ca07-4bb4-d9b8-f51e3f45d680"
      },
      "outputs": [
        {
          "output_type": "stream",
          "name": "stdout",
          "text": [
            "\n",
            "🔍 Individual Model Evaluation:\n",
            "\n",
            "Logistic Regression:\n",
            "Accuracy:  0.9715 | Precision: 0.9762 | Recall: 0.9468 | F1 Score: 0.9613\n",
            "\n",
            "Naive Bayes:\n",
            "Accuracy:  0.9198 | Precision: 0.9971 | Recall: 0.7878 | F1 Score: 0.8802\n",
            "\n",
            "SVM:\n",
            "Accuracy:  0.9831 | Precision: 0.9765 | Recall: 0.9783 | F1 Score: 0.9774\n",
            "\n",
            "Random Forest:\n",
            "Accuracy:  0.9696 | Precision: 0.9733 | Recall: 0.9445 | F1 Score: 0.9587\n",
            "\n",
            "XGBoost:\n",
            "Accuracy:  0.9666 | Precision: 0.9477 | Recall: 0.9639 | F1 Score: 0.9558\n"
          ]
        }
      ],
      "source": [
        "# ✅ TF-IDF Vectorization\n",
        "tfid = TfidfVectorizer()\n",
        "x_train_tfid = tfid.fit_transform(train_texts)\n",
        "x_test_tfid = tfid.transform(test_texts)\n",
        "\n",
        "# ✅ Individual Traditional Models\n",
        "models = {\n",
        "    \"Logistic Regression\": LogisticRegression(max_iter=1000),\n",
        "    \"Naive Bayes\": MultinomialNB(),\n",
        "    \"SVM\": SVC(probability=True),\n",
        "    \"Random Forest\": RandomForestClassifier(n_estimators=100),\n",
        "    \"XGBoost\": XGBClassifier(eval_metric='logloss')\n",
        "}\n",
        "\n",
        "model_probs = []\n",
        "print(\"\\n🔍 Individual Model Evaluation:\")\n",
        "for name, model in models.items():\n",
        "    model.fit(x_train_tfid, train_labels)\n",
        "    probs = model.predict_proba(x_test_tfid)[:, 1]\n",
        "    preds = (probs >= 0.5).astype(int)\n",
        "    acc = accuracy_score(test_labels, preds)\n",
        "    prec = precision_score(test_labels, preds)\n",
        "    rec = recall_score(test_labels, preds)\n",
        "    f1 = f1_score(test_labels, preds)\n",
        "    print(f\"\\n{name}:\")\n",
        "    print(f\"Accuracy:  {acc:.4f} | Precision: {prec:.4f} | Recall: {rec:.4f} | F1 Score: {f1:.4f}\")\n",
        "    model_probs.append(probs)\n",
        "\n"
      ]
    },
    {
      "cell_type": "code",
      "execution_count": 8,
      "metadata": {
        "colab": {
          "base_uri": "https://localhost:8080/",
          "height": 371,
          "referenced_widgets": [
            "43376eff23794603b4b925264b0ad1bf",
            "b48cbf9d8b124a2a8f3a5c4233af156b",
            "61adac77e8c8421e913356c923bb94b8",
            "0804692976c44282bbf8a4708aadacd8",
            "8094cbbb538c43babf347a5a8d2dbe3d",
            "a18273bd900c4e75b87c9c2d912bf06f",
            "80a8c04f46a34c919a2d963bc31b3b8e",
            "9806acd6e0014ffdaf753a46e9c2fb82",
            "466c6c78701343be83e06c0e350dba1c",
            "6d07b66aa3bc4c079ba7858d2171e215",
            "ae90312ad17a4c0b9a33642fe2e8670f",
            "650bab44c48e47c4b33744f3e2a45235",
            "fa7adc34566b4d4381297637ac2da317",
            "fc53a6b59486465d8cad4fe93af404a2",
            "7dfa6ff9ccaa42549d4f77c911ecfc5f",
            "021051a5cd494173885adb89debb5646",
            "73489c9f098c4bdfbd44244e1a5735d7",
            "17672be02a2e4ccf89f004ac2caa42cc",
            "e85335d11af145e7a2056d2d2bc5f7db",
            "5b5073bc22c2404c972ba72c70ca16a4",
            "653c6e36ca26469faaf508e5e44d2acb",
            "341dbc50244441e5a9c8fd38a888a171",
            "eec307471b3546a8a211045e4322cc49",
            "a3a72d33b86b44beb74753d7bacbd10e",
            "4921123972eb42a9a57ea47f0baeb9df",
            "17a3d0f8a916420c97464c2d66e4d837",
            "64a615307b914393a206aabcb9a4cb99",
            "9c41ee8860ef474e92d9f327e47f91b5",
            "a651703a029647e9870a070c85c30c62",
            "4a51b8fe371a4693a915db1de7509513",
            "6d2e01a77a4b473aa5e423ef545351eb",
            "9d872c4c345542a4ab9db2e72c59009b",
            "b92996ed75f244c9bf4cf8d7a3a4c001",
            "ad582b0396c844029884d14c1942fe63",
            "24feba2753e2461dbe3a03168c169e88",
            "c66fe892953641fd80c97b7dc7005bef",
            "9ddfb494df1d4f688457f42f17d1de34",
            "243a24aa1f784c80acd819fe9d273961",
            "cd78a9d52d44482aa2e24f1a52907d91",
            "f78cf7062c62455083dd7a2d736a9272",
            "a344be11445749e288ff4d2a66aab223",
            "8b67e1a2fd694183b91ee5c0c9d20d82",
            "fd158ddff40c4e99b2ab18c342750ae5",
            "3bf14e5457e24f9fa0297027e4ee3519",
            "41a53a4afe45467eaa5cf2070badfd46",
            "41550c5b57f8459eb8607402c4d782d3",
            "125a54f5067d4f5ca8498b60797b1f86",
            "425864674c904831b9eebd2a285324da",
            "dde7131c070942ada0e297ce150e1bbe",
            "3eb7896dfece417c97acb2e0093a1ac0",
            "0dcc04e367254b0c9c5ab3ee12727a12",
            "9a92b367df1043238297256257bf1cab",
            "576754fa9e474c7e80c2abd8c651d88b",
            "34a0543536ea4b899290089df82b90be",
            "645a6d21d08a470aa81d0b80aa609a7d"
          ]
        },
        "id": "fEpKRTAshHAt",
        "outputId": "2311b35e-1a49-416a-d3f2-139aba011288"
      },
      "outputs": [
        {
          "output_type": "stream",
          "name": "stderr",
          "text": [
            "/usr/local/lib/python3.11/dist-packages/huggingface_hub/utils/_auth.py:94: UserWarning: \n",
            "The secret `HF_TOKEN` does not exist in your Colab secrets.\n",
            "To authenticate with the Hugging Face Hub, create a token in your settings tab (https://huggingface.co/settings/tokens), set it as secret in your Google Colab and restart your session.\n",
            "You will be able to reuse this secret in all of your notebooks.\n",
            "Please note that authentication is recommended but still optional to access public models or datasets.\n",
            "  warnings.warn(\n"
          ]
        },
        {
          "output_type": "display_data",
          "data": {
            "text/plain": [
              "tokenizer_config.json:   0%|          | 0.00/48.0 [00:00<?, ?B/s]"
            ],
            "application/vnd.jupyter.widget-view+json": {
              "version_major": 2,
              "version_minor": 0,
              "model_id": "43376eff23794603b4b925264b0ad1bf"
            }
          },
          "metadata": {}
        },
        {
          "output_type": "display_data",
          "data": {
            "text/plain": [
              "vocab.txt:   0%|          | 0.00/232k [00:00<?, ?B/s]"
            ],
            "application/vnd.jupyter.widget-view+json": {
              "version_major": 2,
              "version_minor": 0,
              "model_id": "650bab44c48e47c4b33744f3e2a45235"
            }
          },
          "metadata": {}
        },
        {
          "output_type": "display_data",
          "data": {
            "text/plain": [
              "tokenizer.json:   0%|          | 0.00/466k [00:00<?, ?B/s]"
            ],
            "application/vnd.jupyter.widget-view+json": {
              "version_major": 2,
              "version_minor": 0,
              "model_id": "eec307471b3546a8a211045e4322cc49"
            }
          },
          "metadata": {}
        },
        {
          "output_type": "display_data",
          "data": {
            "text/plain": [
              "config.json:   0%|          | 0.00/570 [00:00<?, ?B/s]"
            ],
            "application/vnd.jupyter.widget-view+json": {
              "version_major": 2,
              "version_minor": 0,
              "model_id": "ad582b0396c844029884d14c1942fe63"
            }
          },
          "metadata": {}
        },
        {
          "output_type": "stream",
          "name": "stderr",
          "text": [
            "Xet Storage is enabled for this repo, but the 'hf_xet' package is not installed. Falling back to regular HTTP download. For better performance, install the package with: `pip install huggingface_hub[hf_xet]` or `pip install hf_xet`\n",
            "WARNING:huggingface_hub.file_download:Xet Storage is enabled for this repo, but the 'hf_xet' package is not installed. Falling back to regular HTTP download. For better performance, install the package with: `pip install huggingface_hub[hf_xet]` or `pip install hf_xet`\n"
          ]
        },
        {
          "output_type": "display_data",
          "data": {
            "text/plain": [
              "model.safetensors:   0%|          | 0.00/440M [00:00<?, ?B/s]"
            ],
            "application/vnd.jupyter.widget-view+json": {
              "version_major": 2,
              "version_minor": 0,
              "model_id": "41a53a4afe45467eaa5cf2070badfd46"
            }
          },
          "metadata": {}
        },
        {
          "output_type": "stream",
          "name": "stderr",
          "text": [
            "Some weights of BertForSequenceClassification were not initialized from the model checkpoint at bert-base-uncased and are newly initialized: ['classifier.bias', 'classifier.weight']\n",
            "You should probably TRAIN this model on a down-stream task to be able to use it for predictions and inference.\n"
          ]
        }
      ],
      "source": [
        "# ✅ BERT Tokenization and Dataloader\n",
        "tokenizer = BertTokenizer.from_pretrained(\"bert-base-uncased\")\n",
        "train_encodings = tokenizer(list(train_texts), truncation=True, padding=True, max_length=256, return_tensors=\"pt\")\n",
        "test_encodings = tokenizer(list(test_texts), truncation=True, padding=True, max_length=256, return_tensors=\"pt\")\n",
        "\n",
        "train_dataset = TensorDataset(train_encodings[\"input_ids\"], train_encodings[\"attention_mask\"], torch.tensor(train_labels))\n",
        "test_dataset = TensorDataset(test_encodings[\"input_ids\"], test_encodings[\"attention_mask\"], torch.tensor(test_labels))\n",
        "\n",
        "train_loader = DataLoader(train_dataset, batch_size=16, shuffle=True)\n",
        "test_loader = DataLoader(test_dataset, batch_size=16, shuffle=False)\n",
        "\n",
        "model_bert = BertForSequenceClassification.from_pretrained(\"bert-base-uncased\", num_labels=2)\n",
        "model_bert.to(device)\n",
        "optimizer = AdamW(model_bert.parameters(), lr=3e-5, eps=1e-8)\n",
        "\n"
      ]
    },
    {
      "cell_type": "code",
      "execution_count": 9,
      "metadata": {
        "colab": {
          "base_uri": "https://localhost:8080/"
        },
        "id": "B4FHX-97hKnS",
        "outputId": "b949425f-2910-40f2-9b66-b52cbca50a2e"
      },
      "outputs": [
        {
          "output_type": "stream",
          "name": "stdout",
          "text": [
            "Epoch 1/3\n",
            "Average training loss: 0.1313 | Training Accuracy: 0.9499\n",
            "Average training loss: 0.1313\n",
            "\n",
            "Epoch 2/3\n",
            "Average training loss: 0.0375 | Training Accuracy: 0.9881\n",
            "Average training loss: 0.0375\n",
            "\n",
            "Epoch 3/3\n",
            "Average training loss: 0.0217 | Training Accuracy: 0.9928\n",
            "Average training loss: 0.0217\n",
            "\n"
          ]
        }
      ],
      "source": [
        "# ✅ Training loop\n",
        "epochs = 3\n",
        "model_bert.train()\n",
        "for epoch in range(epochs):\n",
        "    print(f\"Epoch {epoch+1}/{epochs}\")\n",
        "    total_loss = 0\n",
        "    correct = 0\n",
        "    total = 0\n",
        "    for batch in train_loader:\n",
        "        input_ids, attention_mask, labels = [b.to(device) for b in batch]\n",
        "        model_bert.zero_grad()\n",
        "        outputs = model_bert(input_ids, attention_mask=attention_mask, labels=labels)\n",
        "        loss = outputs.loss\n",
        "        total_loss += loss.item()\n",
        "        logits = outputs.logits\n",
        "        preds = torch.argmax(logits, dim=1)\n",
        "        correct += (preds == labels).sum().item()\n",
        "        total += labels.size(0)\n",
        "        loss.backward()\n",
        "        optimizer.step()\n",
        "    avg_loss = total_loss / len(train_loader)\n",
        "    train_accuracy = correct / total\n",
        "    print(f\"Average training loss: {avg_loss:.4f} | Training Accuracy: {train_accuracy:.4f}\")\n",
        "    print(f\"Average training loss: {avg_loss:.4f}\\n\")"
      ]
    },
    {
      "cell_type": "code",
      "execution_count": 10,
      "metadata": {
        "id": "J4Sk7Q-YrmHD"
      },
      "outputs": [],
      "source": [
        "# ✅ Get BERT Probabilities\n",
        "model_bert.eval()\n",
        "bert_probs = []\n",
        "with torch.no_grad():\n",
        "    for batch in test_loader:\n",
        "        input_ids, attention_mask, _ = [b.to(device) for b in batch]\n",
        "        outputs = model_bert(input_ids, attention_mask=attention_mask)\n",
        "        probs = torch.softmax(outputs.logits, dim=1)[:, 1]\n",
        "        bert_probs.extend(probs.cpu().numpy())\n",
        "\n",
        "model_probs.append(np.array(bert_probs))\n",
        "\n"
      ]
    },
    {
      "cell_type": "code",
      "execution_count": 11,
      "metadata": {
        "colab": {
          "base_uri": "https://localhost:8080/"
        },
        "id": "nV0W98x0hOkL",
        "outputId": "0d5312a2-ce7b-41a6-b319-631350c0e861"
      },
      "outputs": [
        {
          "output_type": "stream",
          "name": "stdout",
          "text": [
            "\n",
            "🔍 Individual Model F1 Scores:\n",
            "Logistic Regression: 0.9613\n",
            "Naive Bayes: 0.8802\n",
            "SVM: 0.9774\n",
            "Random Forest: 0.9587\n",
            "XGBoost: 0.9558\n",
            "BERT: 0.9633\n"
          ]
        }
      ],
      "source": [
        "from sklearn.metrics import accuracy_score, precision_score, recall_score, f1_score, classification_report, confusion_matrix\n",
        "import numpy as np\n",
        "import matplotlib.pyplot as plt\n",
        "from mlxtend.plotting import plot_confusion_matrix\n",
        "\n",
        "# ✅ Step 1: Compute F1 scores for traditional models\n",
        "f1_weights = {}\n",
        "model_probs_named = []   # Keep model probs in same order as f1_weights\n",
        "\n",
        "print(\"\\n🔍 Individual Model F1 Scores:\")\n",
        "for name, model in models.items():\n",
        "    probs = model.predict_proba(x_test_tfid)[:, 1]\n",
        "    preds = (probs >= 0.5).astype(int)\n",
        "    f1 = f1_score(test_labels, preds)\n",
        "    f1_weights[name] = f1\n",
        "    model_probs_named.append(probs)  # Maintain same order\n",
        "    print(f\"{name}: {f1:.4f}\")\n",
        "\n",
        "# ✅ Step 2: Add BERT F1\n",
        "bert_probs = np.array(bert_probs)  # ensure it's a NumPy array\n",
        "bert_preds = (bert_probs >= 0.5).astype(int)\n",
        "bert_f1 = f1_score(test_labels, bert_preds)\n",
        "f1_weights[\"BERT\"] = bert_f1\n",
        "print(f\"BERT: {bert_f1:.4f}\")\n",
        "\n",
        "# ✅ Step 3: Prepare probability array in order\n",
        "model_names_ordered = list(f1_weights.keys())\n",
        "all_probs = model_probs_named + [bert_probs]  # add BERT last\n",
        "all_probs = np.array(all_probs)  # shape = (n_models, n_samples)\n",
        "\n",
        "# ✅ Step 4: Prepare weight array in the same order\n",
        "weights = np.array([f1_weights[name] for name in model_names_ordered]).reshape(-1, 1)  # shape = (n_models, 1)\n",
        "\n",
        "# ✅ Step 5: Weighted average\n",
        "weighted_probs = np.sum(all_probs * weights, axis=0) / np.sum(weights)\n",
        "fusion_preds = (weighted_probs >= 0.5).astype(int)"
      ]
    },
    {
      "cell_type": "code",
      "execution_count": 12,
      "metadata": {
        "colab": {
          "base_uri": "https://localhost:8080/",
          "height": 869
        },
        "id": "lF9fPrwQu42N",
        "outputId": "ee65b777-03b9-4ad8-97e6-597a026ac823"
      },
      "outputs": [
        {
          "output_type": "stream",
          "name": "stdout",
          "text": [
            "\n",
            "🔀 Fusion (TF-IDF + BERT with Weighted Soft Voting) Results\n",
            "✅ Accuracy : 0.9876\n",
            "✅ Precision: 0.9861\n",
            "✅ Recall   : 0.9806\n",
            "✅ F1 Score : 0.9833\n",
            "\n",
            "📋 Classification Report:\n",
            "              precision    recall  f1-score   support\n",
            "\n",
            "           0       0.99      0.99      0.99      3623\n",
            "           1       0.99      0.98      0.98      2163\n",
            "\n",
            "    accuracy                           0.99      5786\n",
            "   macro avg       0.99      0.99      0.99      5786\n",
            "weighted avg       0.99      0.99      0.99      5786\n",
            "\n",
            "\n",
            "Confusion Matrix:\n",
            " [[3593   30]\n",
            " [  42 2121]]\n"
          ]
        },
        {
          "output_type": "display_data",
          "data": {
            "text/plain": [
              "<Figure size 500x500 with 0 Axes>"
            ]
          },
          "metadata": {}
        },
        {
          "output_type": "display_data",
          "data": {
            "text/plain": [
              "<Figure size 500x500 with 1 Axes>"
            ],
            "image/png": "[encoded data removed]"
          },
          "metadata": {}
        }
      ],
      "source": [
        "# ✅ Step 6: Evaluate Fusion Model\n",
        "acc = accuracy_score(test_labels, fusion_preds)\n",
        "prec = precision_score(test_labels, fusion_preds)\n",
        "rec = recall_score(test_labels, fusion_preds)\n",
        "f1 = f1_score(test_labels, fusion_preds)\n",
        "\n",
        "print(\"\\n🔀 Fusion (TF-IDF + BERT with Weighted Soft Voting) Results\")\n",
        "print(f\"✅ Accuracy : {acc:.4f}\")\n",
        "print(f\"✅ Precision: {prec:.4f}\")\n",
        "print(f\"✅ Recall   : {rec:.4f}\")\n",
        "print(f\"✅ F1 Score : {f1:.4f}\")\n",
        "\n",
        "print(\"\\n📋 Classification Report:\")\n",
        "print(classification_report(test_labels, fusion_preds))\n",
        "\n",
        "# ✅ Confusion Matrix\n",
        "cm = confusion_matrix(test_labels, fusion_preds)\n",
        "print(\"\\nConfusion Matrix:\\n\", cm)\n",
        "\n",
        "plt.figure(figsize=(5, 5))\n",
        "plot_confusion_matrix(cm, figsize=(5, 5), cmap=\"Blues\")\n",
        "plt.title(\"Fusion Confusion Matrix (Weighted Soft Voting)\")\n",
        "plt.show()"
      ]
    },
    {
      "cell_type": "code",
      "execution_count": 13,
      "metadata": {
        "colab": {
          "base_uri": "https://localhost:8080/"
        },
        "id": "-OvVsH7QhReg",
        "outputId": "8539430b-cead-4db3-baa1-905adc3fc7ca"
      },
      "outputs": [
        {
          "output_type": "stream",
          "name": "stdout",
          "text": [
            "✅ Saved all traditional models\n",
            "✅ Saved TF-IDF vectorizer\n",
            "✅ Saved BERT model and tokenizer\n",
            "✅ Saved Fusion Model: fusion_model_email.pkl\n"
          ]
        }
      ],
      "source": [
        "import joblib\n",
        "import os\n",
        "import torch\n",
        "from transformers import BertTokenizer, BertForSequenceClassification\n",
        "\n",
        "# ✅ Custom Fusion Wrapper to save ensemble logic\n",
        "class FusionModel:\n",
        "    def __init__(self, models, tfid, bert_model, tokenizer, f1_weights, device):\n",
        "        self.models = models\n",
        "        self.tfid = tfid\n",
        "        self.bert_model = bert_model\n",
        "        self.tokenizer = tokenizer\n",
        "        self.f1_weights = f1_weights\n",
        "        self.device = device\n",
        "\n",
        "    def predict_proba(self, texts):\n",
        "        model_probs = []\n",
        "\n",
        "        # Traditional models\n",
        "        tfidf_vec = self.tfid.transform(texts)\n",
        "        for name in self.models:\n",
        "            probs = self.models[name].predict_proba(tfidf_vec)[:, 1]\n",
        "            model_probs.append(probs)\n",
        "\n",
        "        # BERT model\n",
        "        self.bert_model.eval()\n",
        "        bert_probs = []\n",
        "        with torch.no_grad():\n",
        "            for i in range(0, len(texts), 16):\n",
        "                batch = texts[i:i+16]\n",
        "                inputs = self.tokenizer(batch, padding=True, truncation=True, max_length=128, return_tensors='pt').to(self.device)\n",
        "                logits = self.bert_model(**inputs).logits\n",
        "                probs = torch.softmax(logits, dim=1)[:, 1]\n",
        "                bert_probs.extend(probs.cpu().numpy())\n",
        "        model_probs.append(np.array(bert_probs))\n",
        "\n",
        "        # Soft voting with F1 weights\n",
        "        weights = np.array(list(self.f1_weights.values())).reshape(-1, 1)\n",
        "        all_probs = np.array(model_probs)\n",
        "        return np.sum(all_probs * weights, axis=0) / np.sum(weights)\n",
        "\n",
        "    def predict(self, texts):\n",
        "        probs = self.predict_proba(texts)\n",
        "        return (probs >= 0.5).astype(int)\n",
        "\n",
        "# ✅ Create folders\n",
        "os.makedirs(\"fusion_email_model\", exist_ok=True)\n",
        "\n",
        "# ✅ Save individual components\n",
        "for name, model in models.items():\n",
        "    joblib.dump(model, f\"fusion_email_model/{name.replace(' ', '_').lower()}_model.pkl\")\n",
        "print(\"✅ Saved all traditional models\")\n",
        "\n",
        "joblib.dump(tfid, \"fusion_email_model/tfid_vectorizer.pkl\")\n",
        "print(\"✅ Saved TF-IDF vectorizer\")\n",
        "\n",
        "try:\n",
        "    model_bert.save_pretrained(\"fusion_email_model/bert/\")\n",
        "    tokenizer.save_pretrained(\"fusion_email_model/bert/\")\n",
        "    print(\"✅ Saved BERT model and tokenizer\")\n",
        "except Exception as e:\n",
        "    print(\"❌ BERT save failed:\", e)\n",
        "    torch.save(model_bert.state_dict(), \"fusion_email_model/bert_model_weights.pt\")\n",
        "\n",
        "# ✅ Save FusionModel wrapper as .pkl\n",
        "fusion_model = FusionModel(models, tfid, model_bert, tokenizer, f1_weights, device)\n",
        "joblib.dump(fusion_model, \"fusion_email_model/fusion_model_email.pkl\")\n",
        "print(\"✅ Saved Fusion Model: fusion_model_email.pkl\")"
      ]
    },
    {
      "cell_type": "code",
      "execution_count": 14,
      "metadata": {
        "colab": {
          "base_uri": "https://localhost:8080/",
          "height": 407
        },
        "id": "DmQEChEF5pRG",
        "outputId": "31f4ba1e-0da4-4d24-8889-f257bf267b70"
      },
      "outputs": [
        {
          "output_type": "display_data",
          "data": {
            "text/plain": [
              "<Figure size 800x400 with 1 Axes>"
            ],
            "image/png": "[encoded data removed]"
          },
          "metadata": {}
        }
      ],
      "source": [
        "import matplotlib.pyplot as plt\n",
        "\n",
        "# Bar Plot of F1 Scores\n",
        "f1_scores = list(f1_weights.values())\n",
        "model_names = list(f1_weights.keys())\n",
        "\n",
        "plt.figure(figsize=(8, 4))\n",
        "plt.bar(model_names, f1_scores, color='skyblue')\n",
        "plt.ylabel(\"F1 Score\")\n",
        "plt.title(\"F1 Scores of Individual Models\")\n",
        "plt.xticks(rotation=30)\n",
        "plt.tight_layout()\n",
        "plt.show()"
      ]
    },
    {
      "cell_type": "code",
      "execution_count": 15,
      "metadata": {
        "colab": {
          "base_uri": "https://localhost:8080/",
          "height": 507
        },
        "id": "zfkduMD5Pva2",
        "outputId": "65897fde-5b88-4eba-cb51-c8b8d9d3292e"
      },
      "outputs": [
        {
          "output_type": "display_data",
          "data": {
            "text/plain": [
              "<Figure size 700x500 with 1 Axes>"
            ],
            "image/png": "[encoded data removed]"
          },
          "metadata": {}
        }
      ],
      "source": [
        "from sklearn.metrics import roc_curve, auc\n",
        "\n",
        "fpr_fusion, tpr_fusion, _ = roc_curve(test_labels, weighted_probs)\n",
        "fpr_bert, tpr_bert, _ = roc_curve(test_labels, bert_probs)\n",
        "\n",
        "plt.figure(figsize=(7, 5))\n",
        "plt.plot(fpr_fusion, tpr_fusion, label=f\"Fusion (AUC = {auc(fpr_fusion, tpr_fusion):.2f})\", linewidth=2)\n",
        "plt.plot(fpr_bert, tpr_bert, label=f\"BERT (AUC = {auc(fpr_bert, tpr_bert):.2f})\", linewidth=2, linestyle=\"--\")\n",
        "plt.plot([0, 1], [0, 1], linestyle=\"--\", color=\"gray\")\n",
        "plt.xlabel(\"False Positive Rate\")\n",
        "plt.ylabel(\"True Positive Rate\")\n",
        "plt.title(\"ROC Curve Comparison\")\n",
        "plt.legend()\n",
        "plt.grid()\n",
        "plt.tight_layout()\n",
        "plt.show()"
      ]
    },
    {
      "cell_type": "code",
      "execution_count": 16,
      "metadata": {
        "id": "EpuWYNWwPyqY",
        "colab": {
          "base_uri": "https://localhost:8080/",
          "height": 574
        },
        "outputId": "0134f7a3-b1ae-4711-a67f-02ca7d588119"
      },
      "outputs": [
        {
          "output_type": "stream",
          "name": "stderr",
          "text": [
            "<ipython-input-16-958fadb016e9>:1: FutureWarning: \n",
            "\n",
            "Passing `palette` without assigning `hue` is deprecated and will be removed in v0.14.0. Assign the `x` variable to `hue` and set `legend=False` for the same effect.\n",
            "\n",
            "  sns.countplot(x=\"Email Type\", data=df, palette=\"Set2\")\n"
          ]
        },
        {
          "output_type": "display_data",
          "data": {
            "text/plain": [
              "<Figure size 640x480 with 1 Axes>"
            ],
            "image/png": "[encoded data removed]"
          },
          "metadata": {}
        }
      ],
      "source": [
        "sns.countplot(x=\"Email Type\", data=df, palette=\"Set2\")\n",
        "plt.title(\"Distribution of Email Types\")\n",
        "plt.xticks([0, 1], [\"Safe\", \"Phishing\"])\n",
        "plt.xlabel(\"Email Type\")\n",
        "plt.ylabel(\"Count\")\n",
        "plt.tight_layout()\n",
        "plt.show()\n"
      ]
    },
    {
      "cell_type": "code",
      "source": [
        "f1_scores = list(f1_weights.values())\n",
        "model_names = list(f1_weights.keys())\n",
        "\n",
        "plt.figure(figsize=(8, 4))\n",
        "sns.barplot(x=model_names, y=f1_scores, palette=\"coolwarm\")\n",
        "plt.ylabel(\"F1 Score\")\n",
        "plt.title(\"F1 Scores of Individual Models\")\n",
        "plt.xticks(rotation=30)\n",
        "plt.ylim(0, 1)\n",
        "plt.tight_layout()\n",
        "plt.show()"
      ],
      "metadata": {
        "colab": {
          "base_uri": "https://localhost:8080/",
          "height": 494
        },
        "id": "lFMYNrKKTDWU",
        "outputId": "09c97cb3-c4f6-4c21-85e6-8477f6930025"
      },
      "execution_count": 17,
      "outputs": [
        {
          "output_type": "stream",
          "name": "stderr",
          "text": [
            "<ipython-input-17-a34b1b8bc137>:5: FutureWarning: \n",
            "\n",
            "Passing `palette` without assigning `hue` is deprecated and will be removed in v0.14.0. Assign the `x` variable to `hue` and set `legend=False` for the same effect.\n",
            "\n",
            "  sns.barplot(x=model_names, y=f1_scores, palette=\"coolwarm\")\n"
          ]
        },
        {
          "output_type": "display_data",
          "data": {
            "text/plain": [
              "<Figure size 800x400 with 1 Axes>"
            ],
            "image/png": "[encoded data removed]"
          },
          "metadata": {}
        }
      ]
    },
    {
      "cell_type": "code",
      "source": [],
      "metadata": {
        "id": "P2e3PjLXTDSo"
      },
      "execution_count": 18,
      "outputs": []
    },
    {
      "cell_type": "code",
      "source": [],
      "metadata": {
        "id": "BKdzCBqgTDEe"
      },
      "execution_count": 18,
      "outputs": []
    }
  ],
  "metadata": {
    "accelerator": "GPU",
    "colab": {
      "gpuType": "T4",
      "provenance": []
    },
    "kernelspec": {
      "display_name": "Python 3",
      "name": "python3"
    },
    "language_info": {
      "codemirror_mode": {
        "name": "ipython",
        "version": 3
      },
      "file_extension": ".py",
      "mimetype": "text/x-python",
      "name": "python",
      "nbconvert_exporter": "python",
      "pygments_lexer": "ipython3",
      "version": "3.11.7"
    },
    "widgets": {
      "application/vnd.jupyter.widget-state+json": {
        "43376eff23794603b4b925264b0ad1bf": {
          "model_module": "@jupyter-widgets/controls",
          "model_name": "HBoxModel",
          "model_module_version": "1.5.0",
          "state": {
            "_dom_classes": [],
            "_model_module": "@jupyter-widgets/controls",
            "_model_module_version": "1.5.0",
            "_model_name": "HBoxModel",
            "_view_count": null,
            "_view_module": "@jupyter-widgets/controls",
            "_view_module_version": "1.5.0",
            "_view_name": "HBoxView",
            "box_style": "",
            "children": [
              "IPY_MODEL_b48cbf9d8b124a2a8f3a5c4233af156b",
              "IPY_MODEL_61adac77e8c8421e913356c923bb94b8",
              "IPY_MODEL_0804692976c44282bbf8a4708aadacd8"
            ],
            "layout": "IPY_MODEL_8094cbbb538c43babf347a5a8d2dbe3d"
          }
        },
        "b48cbf9d8b124a2a8f3a5c4233af156b": {
          "model_module": "@jupyter-widgets/controls",
          "model_name": "HTMLModel",
          "model_module_version": "1.5.0",
          "state": {
            "_dom_classes": [],
            "_model_module": "@jupyter-widgets/controls",
            "_model_module_version": "1.5.0",
            "_model_name": "HTMLModel",
            "_view_count": null,
            "_view_module": "@jupyter-widgets/controls",
            "_view_module_version": "1.5.0",
            "_view_name": "HTMLView",
            "description": "",
            "description_tooltip": null,
            "layout": "IPY_MODEL_a18273bd900c4e75b87c9c2d912bf06f",
            "placeholder": "​",
            "style": "IPY_MODEL_80a8c04f46a34c919a2d963bc31b3b8e",
            "value": "tokenizer_config.json: 100%"
          }
        },
        "61adac77e8c8421e913356c923bb94b8": {
          "model_module": "@jupyter-widgets/controls",
          "model_name": "FloatProgressModel",
          "model_module_version": "1.5.0",
          "state": {
            "_dom_classes": [],
            "_model_module": "@jupyter-widgets/controls",
            "_model_module_version": "1.5.0",
            "_model_name": "FloatProgressModel",
            "_view_count": null,
            "_view_module": "@jupyter-widgets/controls",
            "_view_module_version": "1.5.0",
            "_view_name": "ProgressView",
            "bar_style": "success",
            "description": "",
            "description_tooltip": null,
            "layout": "IPY_MODEL_9806acd6e0014ffdaf753a46e9c2fb82",
            "max": 48,
            "min": 0,
            "orientation": "horizontal",
            "style": "IPY_MODEL_466c6c78701343be83e06c0e350dba1c",
            "value": 48
          }
        },
        "0804692976c44282bbf8a4708aadacd8": {
          "model_module": "@jupyter-widgets/controls",
          "model_name": "HTMLModel",
          "model_module_version": "1.5.0",
          "state": {
            "_dom_classes": [],
            "_model_module": "@jupyter-widgets/controls",
            "_model_module_version": "1.5.0",
            "_model_name": "HTMLModel",
            "_view_count": null,
            "_view_module": "@jupyter-widgets/controls",
            "_view_module_version": "1.5.0",
            "_view_name": "HTMLView",
            "description": "",
            "description_tooltip": null,
            "layout": "IPY_MODEL_6d07b66aa3bc4c079ba7858d2171e215",
            "placeholder": "​",
            "style": "IPY_MODEL_ae90312ad17a4c0b9a33642fe2e8670f",
            "value": " 48.0/48.0 [00:00&lt;00:00, 5.18kB/s]"
          }
        },
        "8094cbbb538c43babf347a5a8d2dbe3d": {
          "model_module": "@jupyter-widgets/base",
          "model_name": "LayoutModel",
          "model_module_version": "1.2.0",
          "state": {
            "_model_module": "@jupyter-widgets/base",
            "_model_module_version": "1.2.0",
            "_model_name": "LayoutModel",
            "_view_count": null,
            "_view_module": "@jupyter-widgets/base",
            "_view_module_version": "1.2.0",
            "_view_name": "LayoutView",
            "align_content": null,
            "align_items": null,
            "align_self": null,
            "border": null,
            "bottom": null,
            "display": null,
            "flex": null,
            "flex_flow": null,
            "grid_area": null,
            "grid_auto_columns": null,
            "grid_auto_flow": null,
            "grid_auto_rows": null,
            "grid_column": null,
            "grid_gap": null,
            "grid_row": null,
            "grid_template_areas": null,
            "grid_template_columns": null,
            "grid_template_rows": null,
            "height": null,
            "justify_content": null,
            "justify_items": null,
            "left": null,
            "margin": null,
            "max_height": null,
            "max_width": null,
            "min_height": null,
            "min_width": null,
            "object_fit": null,
            "object_position": null,
            "order": null,
            "overflow": null,
            "overflow_x": null,
            "overflow_y": null,
            "padding": null,
            "right": null,
            "top": null,
            "visibility": null,
            "width": null
          }
        },
        "a18273bd900c4e75b87c9c2d912bf06f": {
          "model_module": "@jupyter-widgets/base",
          "model_name": "LayoutModel",
          "model_module_version": "1.2.0",
          "state": {
            "_model_module": "@jupyter-widgets/base",
            "_model_module_version": "1.2.0",
            "_model_name": "LayoutModel",
            "_view_count": null,
            "_view_module": "@jupyter-widgets/base",
            "_view_module_version": "1.2.0",
            "_view_name": "LayoutView",
            "align_content": null,
            "align_items": null,
            "align_self": null,
            "border": null,
            "bottom": null,
            "display": null,
            "flex": null,
            "flex_flow": null,
            "grid_area": null,
            "grid_auto_columns": null,
            "grid_auto_flow": null,
            "grid_auto_rows": null,
            "grid_column": null,
            "grid_gap": null,
            "grid_row": null,
            "grid_template_areas": null,
            "grid_template_columns": null,
            "grid_template_rows": null,
            "height": null,
            "justify_content": null,
            "justify_items": null,
            "left": null,
            "margin": null,
            "max_height": null,
            "max_width": null,
            "min_height": null,
            "min_width": null,
            "object_fit": null,
            "object_position": null,
            "order": null,
            "overflow": null,
            "overflow_x": null,
            "overflow_y": null,
            "padding": null,
            "right": null,
            "top": null,
            "visibility": null,
            "width": null
          }
        },
        "80a8c04f46a34c919a2d963bc31b3b8e": {
          "model_module": "@jupyter-widgets/controls",
          "model_name": "DescriptionStyleModel",
          "model_module_version": "1.5.0",
          "state": {
            "_model_module": "@jupyter-widgets/controls",
            "_model_module_version": "1.5.0",
            "_model_name": "DescriptionStyleModel",
            "_view_count": null,
            "_view_module": "@jupyter-widgets/base",
            "_view_module_version": "1.2.0",
            "_view_name": "StyleView",
            "description_width": ""
          }
        },
        "9806acd6e0014ffdaf753a46e9c2fb82": {
          "model_module": "@jupyter-widgets/base",
          "model_name": "LayoutModel",
          "model_module_version": "1.2.0",
          "state": {
            "_model_module": "@jupyter-widgets/base",
            "_model_module_version": "1.2.0",
            "_model_name": "LayoutModel",
            "_view_count": null,
            "_view_module": "@jupyter-widgets/base",
            "_view_module_version": "1.2.0",
            "_view_name": "LayoutView",
            "align_content": null,
            "align_items": null,
            "align_self": null,
            "border": null,
            "bottom": null,
            "display": null,
            "flex": null,
            "flex_flow": null,
            "grid_area": null,
            "grid_auto_columns": null,
            "grid_auto_flow": null,
            "grid_auto_rows": null,
            "grid_column": null,
            "grid_gap": null,
            "grid_row": null,
            "grid_template_areas": null,
            "grid_template_columns": null,
            "grid_template_rows": null,
            "height": null,
            "justify_content": null,
            "justify_items": null,
            "left": null,
            "margin": null,
            "max_height": null,
            "max_width": null,
            "min_height": null,
            "min_width": null,
            "object_fit": null,
            "object_position": null,
            "order": null,
            "overflow": null,
            "overflow_x": null,
            "overflow_y": null,
            "padding": null,
            "right": null,
            "top": null,
            "visibility": null,
            "width": null
          }
        },
        "466c6c78701343be83e06c0e350dba1c": {
          "model_module": "@jupyter-widgets/controls",
          "model_name": "ProgressStyleModel",
          "model_module_version": "1.5.0",
          "state": {
            "_model_module": "@jupyter-widgets/controls",
            "_model_module_version": "1.5.0",
            "_model_name": "ProgressStyleModel",
            "_view_count": null,
            "_view_module": "@jupyter-widgets/base",
            "_view_module_version": "1.2.0",
            "_view_name": "StyleView",
            "bar_color": null,
            "description_width": ""
          }
        },
        "6d07b66aa3bc4c079ba7858d2171e215": {
          "model_module": "@jupyter-widgets/base",
          "model_name": "LayoutModel",
          "model_module_version": "1.2.0",
          "state": {
            "_model_module": "@jupyter-widgets/base",
            "_model_module_version": "1.2.0",
            "_model_name": "LayoutModel",
            "_view_count": null,
            "_view_module": "@jupyter-widgets/base",
            "_view_module_version": "1.2.0",
            "_view_name": "LayoutView",
            "align_content": null,
            "align_items": null,
            "align_self": null,
            "border": null,
            "bottom": null,
            "display": null,
            "flex": null,
            "flex_flow": null,
            "grid_area": null,
            "grid_auto_columns": null,
            "grid_auto_flow": null,
            "grid_auto_rows": null,
            "grid_column": null,
            "grid_gap": null,
            "grid_row": null,
            "grid_template_areas": null,
            "grid_template_columns": null,
            "grid_template_rows": null,
            "height": null,
            "justify_content": null,
            "justify_items": null,
            "left": null,
            "margin": null,
            "max_height": null,
            "max_width": null,
            "min_height": null,
            "min_width": null,
            "object_fit": null,
            "object_position": null,
            "order": null,
            "overflow": null,
            "overflow_x": null,
            "overflow_y": null,
            "padding": null,
            "right": null,
            "top": null,
            "visibility": null,
            "width": null
          }
        },
        "ae90312ad17a4c0b9a33642fe2e8670f": {
          "model_module": "@jupyter-widgets/controls",
          "model_name": "DescriptionStyleModel",
          "model_module_version": "1.5.0",
          "state": {
            "_model_module": "@jupyter-widgets/controls",
            "_model_module_version": "1.5.0",
            "_model_name": "DescriptionStyleModel",
            "_view_count": null,
            "_view_module": "@jupyter-widgets/base",
            "_view_module_version": "1.2.0",
            "_view_name": "StyleView",
            "description_width": ""
          }
        },
        "650bab44c48e47c4b33744f3e2a45235": {
          "model_module": "@jupyter-widgets/controls",
          "model_name": "HBoxModel",
          "model_module_version": "1.5.0",
          "state": {
            "_dom_classes": [],
            "_model_module": "@jupyter-widgets/controls",
            "_model_module_version": "1.5.0",
            "_model_name": "HBoxModel",
            "_view_count": null,
            "_view_module": "@jupyter-widgets/controls",
            "_view_module_version": "1.5.0",
            "_view_name": "HBoxView",
            "box_style": "",
            "children": [
              "IPY_MODEL_fa7adc34566b4d4381297637ac2da317",
              "IPY_MODEL_fc53a6b59486465d8cad4fe93af404a2",
              "IPY_MODEL_7dfa6ff9ccaa42549d4f77c911ecfc5f"
            ],
            "layout": "IPY_MODEL_021051a5cd494173885adb89debb5646"
          }
        },
        "fa7adc34566b4d4381297637ac2da317": {
          "model_module": "@jupyter-widgets/controls",
          "model_name": "HTMLModel",
          "model_module_version": "1.5.0",
          "state": {
            "_dom_classes": [],
            "_model_module": "@jupyter-widgets/controls",
            "_model_module_version": "1.5.0",
            "_model_name": "HTMLModel",
            "_view_count": null,
            "_view_module": "@jupyter-widgets/controls",
            "_view_module_version": "1.5.0",
            "_view_name": "HTMLView",
            "description": "",
            "description_tooltip": null,
            "layout": "IPY_MODEL_73489c9f098c4bdfbd44244e1a5735d7",
            "placeholder": "​",
            "style": "IPY_MODEL_17672be02a2e4ccf89f004ac2caa42cc",
            "value": "vocab.txt: 100%"
          }
        },
        "fc53a6b59486465d8cad4fe93af404a2": {
          "model_module": "@jupyter-widgets/controls",
          "model_name": "FloatProgressModel",
          "model_module_version": "1.5.0",
          "state": {
            "_dom_classes": [],
            "_model_module": "@jupyter-widgets/controls",
            "_model_module_version": "1.5.0",
            "_model_name": "FloatProgressModel",
            "_view_count": null,
            "_view_module": "@jupyter-widgets/controls",
            "_view_module_version": "1.5.0",
            "_view_name": "ProgressView",
            "bar_style": "success",
            "description": "",
            "description_tooltip": null,
            "layout": "IPY_MODEL_e85335d11af145e7a2056d2d2bc5f7db",
            "max": 231508,
            "min": 0,
            "orientation": "horizontal",
            "style": "IPY_MODEL_5b5073bc22c2404c972ba72c70ca16a4",
            "value": 231508
          }
        },
        "7dfa6ff9ccaa42549d4f77c911ecfc5f": {
          "model_module": "@jupyter-widgets/controls",
          "model_name": "HTMLModel",
          "model_module_version": "1.5.0",
          "state": {
            "_dom_classes": [],
            "_model_module": "@jupyter-widgets/controls",
            "_model_module_version": "1.5.0",
            "_model_name": "HTMLModel",
            "_view_count": null,
            "_view_module": "@jupyter-widgets/controls",
            "_view_module_version": "1.5.0",
            "_view_name": "HTMLView",
            "description": "",
            "description_tooltip": null,
            "layout": "IPY_MODEL_653c6e36ca26469faaf508e5e44d2acb",
            "placeholder": "​",
            "style": "IPY_MODEL_341dbc50244441e5a9c8fd38a888a171",
            "value": " 232k/232k [00:00&lt;00:00, 1.04MB/s]"
          }
        },
        "021051a5cd494173885adb89debb5646": {
          "model_module": "@jupyter-widgets/base",
          "model_name": "LayoutModel",
          "model_module_version": "1.2.0",
          "state": {
            "_model_module": "@jupyter-widgets/base",
            "_model_module_version": "1.2.0",
            "_model_name": "LayoutModel",
            "_view_count": null,
            "_view_module": "@jupyter-widgets/base",
            "_view_module_version": "1.2.0",
            "_view_name": "LayoutView",
            "align_content": null,
            "align_items": null,
            "align_self": null,
            "border": null,
            "bottom": null,
            "display": null,
            "flex": null,
            "flex_flow": null,
            "grid_area": null,
            "grid_auto_columns": null,
            "grid_auto_flow": null,
            "grid_auto_rows": null,
            "grid_column": null,
            "grid_gap": null,
            "grid_row": null,
            "grid_template_areas": null,
            "grid_template_columns": null,
            "grid_template_rows": null,
            "height": null,
            "justify_content": null,
            "justify_items": null,
            "left": null,
            "margin": null,
            "max_height": null,
            "max_width": null,
            "min_height": null,
            "min_width": null,
            "object_fit": null,
            "object_position": null,
            "order": null,
            "overflow": null,
            "overflow_x": null,
            "overflow_y": null,
            "padding": null,
            "right": null,
            "top": null,
            "visibility": null,
            "width": null
          }
        },
        "73489c9f098c4bdfbd44244e1a5735d7": {
          "model_module": "@jupyter-widgets/base",
          "model_name": "LayoutModel",
          "model_module_version": "1.2.0",
          "state": {
            "_model_module": "@jupyter-widgets/base",
            "_model_module_version": "1.2.0",
            "_model_name": "LayoutModel",
            "_view_count": null,
            "_view_module": "@jupyter-widgets/base",
            "_view_module_version": "1.2.0",
            "_view_name": "LayoutView",
            "align_content": null,
            "align_items": null,
            "align_self": null,
            "border": null,
            "bottom": null,
            "display": null,
            "flex": null,
            "flex_flow": null,
            "grid_area": null,
            "grid_auto_columns": null,
            "grid_auto_flow": null,
            "grid_auto_rows": null,
            "grid_column": null,
            "grid_gap": null,
            "grid_row": null,
            "grid_template_areas": null,
            "grid_template_columns": null,
            "grid_template_rows": null,
            "height": null,
            "justify_content": null,
            "justify_items": null,
            "left": null,
            "margin": null,
            "max_height": null,
            "max_width": null,
            "min_height": null,
            "min_width": null,
            "object_fit": null,
            "object_position": null,
            "order": null,
            "overflow": null,
            "overflow_x": null,
            "overflow_y": null,
            "padding": null,
            "right": null,
            "top": null,
            "visibility": null,
            "width": null
          }
        },
        "17672be02a2e4ccf89f004ac2caa42cc": {
          "model_module": "@jupyter-widgets/controls",
          "model_name": "DescriptionStyleModel",
          "model_module_version": "1.5.0",
          "state": {
            "_model_module": "@jupyter-widgets/controls",
            "_model_module_version": "1.5.0",
            "_model_name": "DescriptionStyleModel",
            "_view_count": null,
            "_view_module": "@jupyter-widgets/base",
            "_view_module_version": "1.2.0",
            "_view_name": "StyleView",
            "description_width": ""
          }
        },
        "e85335d11af145e7a2056d2d2bc5f7db": {
          "model_module": "@jupyter-widgets/base",
          "model_name": "LayoutModel",
          "model_module_version": "1.2.0",
          "state": {
            "_model_module": "@jupyter-widgets/base",
            "_model_module_version": "1.2.0",
            "_model_name": "LayoutModel",
            "_view_count": null,
            "_view_module": "@jupyter-widgets/base",
            "_view_module_version": "1.2.0",
            "_view_name": "LayoutView",
            "align_content": null,
            "align_items": null,
            "align_self": null,
            "border": null,
            "bottom": null,
            "display": null,
            "flex": null,
            "flex_flow": null,
            "grid_area": null,
            "grid_auto_columns": null,
            "grid_auto_flow": null,
            "grid_auto_rows": null,
            "grid_column": null,
            "grid_gap": null,
            "grid_row": null,
            "grid_template_areas": null,
            "grid_template_columns": null,
            "grid_template_rows": null,
            "height": null,
            "justify_content": null,
            "justify_items": null,
            "left": null,
            "margin": null,
            "max_height": null,
            "max_width": null,
            "min_height": null,
            "min_width": null,
            "object_fit": null,
            "object_position": null,
            "order": null,
            "overflow": null,
            "overflow_x": null,
            "overflow_y": null,
            "padding": null,
            "right": null,
            "top": null,
            "visibility": null,
            "width": null
          }
        },
        "5b5073bc22c2404c972ba72c70ca16a4": {
          "model_module": "@jupyter-widgets/controls",
          "model_name": "ProgressStyleModel",
          "model_module_version": "1.5.0",
          "state": {
            "_model_module": "@jupyter-widgets/controls",
            "_model_module_version": "1.5.0",
            "_model_name": "ProgressStyleModel",
            "_view_count": null,
            "_view_module": "@jupyter-widgets/base",
            "_view_module_version": "1.2.0",
            "_view_name": "StyleView",
            "bar_color": null,
            "description_width": ""
          }
        },
        "653c6e36ca26469faaf508e5e44d2acb": {
          "model_module": "@jupyter-widgets/base",
          "model_name": "LayoutModel",
          "model_module_version": "1.2.0",
          "state": {
            "_model_module": "@jupyter-widgets/base",
            "_model_module_version": "1.2.0",
            "_model_name": "LayoutModel",
            "_view_count": null,
            "_view_module": "@jupyter-widgets/base",
            "_view_module_version": "1.2.0",
            "_view_name": "LayoutView",
            "align_content": null,
            "align_items": null,
            "align_self": null,
            "border": null,
            "bottom": null,
            "display": null,
            "flex": null,
            "flex_flow": null,
            "grid_area": null,
            "grid_auto_columns": null,
            "grid_auto_flow": null,
            "grid_auto_rows": null,
            "grid_column": null,
            "grid_gap": null,
            "grid_row": null,
            "grid_template_areas": null,
            "grid_template_columns": null,
            "grid_template_rows": null,
            "height": null,
            "justify_content": null,
            "justify_items": null,
            "left": null,
            "margin": null,
            "max_height": null,
            "max_width": null,
            "min_height": null,
            "min_width": null,
            "object_fit": null,
            "object_position": null,
            "order": null,
            "overflow": null,
            "overflow_x": null,
            "overflow_y": null,
            "padding": null,
            "right": null,
            "top": null,
            "visibility": null,
            "width": null
          }
        },
        "341dbc50244441e5a9c8fd38a888a171": {
          "model_module": "@jupyter-widgets/controls",
          "model_name": "DescriptionStyleModel",
          "model_module_version": "1.5.0",
          "state": {
            "_model_module": "@jupyter-widgets/controls",
            "_model_module_version": "1.5.0",
            "_model_name": "DescriptionStyleModel",
            "_view_count": null,
            "_view_module": "@jupyter-widgets/base",
            "_view_module_version": "1.2.0",
            "_view_name": "StyleView",
            "description_width": ""
          }
        },
        "eec307471b3546a8a211045e4322cc49": {
          "model_module": "@jupyter-widgets/controls",
          "model_name": "HBoxModel",
          "model_module_version": "1.5.0",
          "state": {
            "_dom_classes": [],
            "_model_module": "@jupyter-widgets/controls",
            "_model_module_version": "1.5.0",
            "_model_name": "HBoxModel",
            "_view_count": null,
            "_view_module": "@jupyter-widgets/controls",
            "_view_module_version": "1.5.0",
            "_view_name": "HBoxView",
            "box_style": "",
            "children": [
              "IPY_MODEL_a3a72d33b86b44beb74753d7bacbd10e",
              "IPY_MODEL_4921123972eb42a9a57ea47f0baeb9df",
              "IPY_MODEL_17a3d0f8a916420c97464c2d66e4d837"
            ],
            "layout": "IPY_MODEL_64a615307b914393a206aabcb9a4cb99"
          }
        },
        "a3a72d33b86b44beb74753d7bacbd10e": {
          "model_module": "@jupyter-widgets/controls",
          "model_name": "HTMLModel",
          "model_module_version": "1.5.0",
          "state": {
            "_dom_classes": [],
            "_model_module": "@jupyter-widgets/controls",
            "_model_module_version": "1.5.0",
            "_model_name": "HTMLModel",
            "_view_count": null,
            "_view_module": "@jupyter-widgets/controls",
            "_view_module_version": "1.5.0",
            "_view_name": "HTMLView",
            "description": "",
            "description_tooltip": null,
            "layout": "IPY_MODEL_9c41ee8860ef474e92d9f327e47f91b5",
            "placeholder": "​",
            "style": "IPY_MODEL_a651703a029647e9870a070c85c30c62",
            "value": "tokenizer.json: 100%"
          }
        },
        "4921123972eb42a9a57ea47f0baeb9df": {
          "model_module": "@jupyter-widgets/controls",
          "model_name": "FloatProgressModel",
          "model_module_version": "1.5.0",
          "state": {
            "_dom_classes": [],
            "_model_module": "@jupyter-widgets/controls",
            "_model_module_version": "1.5.0",
            "_model_name": "FloatProgressModel",
            "_view_count": null,
            "_view_module": "@jupyter-widgets/controls",
            "_view_module_version": "1.5.0",
            "_view_name": "ProgressView",
            "bar_style": "success",
            "description": "",
            "description_tooltip": null,
            "layout": "IPY_MODEL_4a51b8fe371a4693a915db1de7509513",
            "max": 466062,
            "min": 0,
            "orientation": "horizontal",
            "style": "IPY_MODEL_6d2e01a77a4b473aa5e423ef545351eb",
            "value": 466062
          }
        },
        "17a3d0f8a916420c97464c2d66e4d837": {
          "model_module": "@jupyter-widgets/controls",
          "model_name": "HTMLModel",
          "model_module_version": "1.5.0",
          "state": {
            "_dom_classes": [],
            "_model_module": "@jupyter-widgets/controls",
            "_model_module_version": "1.5.0",
            "_model_name": "HTMLModel",
            "_view_count": null,
            "_view_module": "@jupyter-widgets/controls",
            "_view_module_version": "1.5.0",
            "_view_name": "HTMLView",
            "description": "",
            "description_tooltip": null,
            "layout": "IPY_MODEL_9d872c4c345542a4ab9db2e72c59009b",
            "placeholder": "​",
            "style": "IPY_MODEL_b92996ed75f244c9bf4cf8d7a3a4c001",
            "value": " 466k/466k [00:00&lt;00:00, 1.07MB/s]"
          }
        },
        "64a615307b914393a206aabcb9a4cb99": {
          "model_module": "@jupyter-widgets/base",
          "model_name": "LayoutModel",
          "model_module_version": "1.2.0",
          "state": {
            "_model_module": "@jupyter-widgets/base",
            "_model_module_version": "1.2.0",
            "_model_name": "LayoutModel",
            "_view_count": null,
            "_view_module": "@jupyter-widgets/base",
            "_view_module_version": "1.2.0",
            "_view_name": "LayoutView",
            "align_content": null,
            "align_items": null,
            "align_self": null,
            "border": null,
            "bottom": null,
            "display": null,
            "flex": null,
            "flex_flow": null,
            "grid_area": null,
            "grid_auto_columns": null,
            "grid_auto_flow": null,
            "grid_auto_rows": null,
            "grid_column": null,
            "grid_gap": null,
            "grid_row": null,
            "grid_template_areas": null,
            "grid_template_columns": null,
            "grid_template_rows": null,
            "height": null,
            "justify_content": null,
            "justify_items": null,
            "left": null,
            "margin": null,
            "max_height": null,
            "max_width": null,
            "min_height": null,
            "min_width": null,
            "object_fit": null,
            "object_position": null,
            "order": null,
            "overflow": null,
            "overflow_x": null,
            "overflow_y": null,
            "padding": null,
            "right": null,
            "top": null,
            "visibility": null,
            "width": null
          }
        },
        "9c41ee8860ef474e92d9f327e47f91b5": {
          "model_module": "@jupyter-widgets/base",
          "model_name": "LayoutModel",
          "model_module_version": "1.2.0",
          "state": {
            "_model_module": "@jupyter-widgets/base",
            "_model_module_version": "1.2.0",
            "_model_name": "LayoutModel",
            "_view_count": null,
            "_view_module": "@jupyter-widgets/base",
            "_view_module_version": "1.2.0",
            "_view_name": "LayoutView",
            "align_content": null,
            "align_items": null,
            "align_self": null,
            "border": null,
            "bottom": null,
            "display": null,
            "flex": null,
            "flex_flow": null,
            "grid_area": null,
            "grid_auto_columns": null,
            "grid_auto_flow": null,
            "grid_auto_rows": null,
            "grid_column": null,
            "grid_gap": null,
            "grid_row": null,
            "grid_template_areas": null,
            "grid_template_columns": null,
            "grid_template_rows": null,
            "height": null,
            "justify_content": null,
            "justify_items": null,
            "left": null,
            "margin": null,
            "max_height": null,
            "max_width": null,
            "min_height": null,
            "min_width": null,
            "object_fit": null,
            "object_position": null,
            "order": null,
            "overflow": null,
            "overflow_x": null,
            "overflow_y": null,
            "padding": null,
            "right": null,
            "top": null,
            "visibility": null,
            "width": null
          }
        },
        "a651703a029647e9870a070c85c30c62": {
          "model_module": "@jupyter-widgets/controls",
          "model_name": "DescriptionStyleModel",
          "model_module_version": "1.5.0",
          "state": {
            "_model_module": "@jupyter-widgets/controls",
            "_model_module_version": "1.5.0",
            "_model_name": "DescriptionStyleModel",
            "_view_count": null,
            "_view_module": "@jupyter-widgets/base",
            "_view_module_version": "1.2.0",
            "_view_name": "StyleView",
            "description_width": ""
          }
        },
        "4a51b8fe371a4693a915db1de7509513": {
          "model_module": "@jupyter-widgets/base",
          "model_name": "LayoutModel",
          "model_module_version": "1.2.0",
          "state": {
            "_model_module": "@jupyter-widgets/base",
            "_model_module_version": "1.2.0",
            "_model_name": "LayoutModel",
            "_view_count": null,
            "_view_module": "@jupyter-widgets/base",
            "_view_module_version": "1.2.0",
            "_view_name": "LayoutView",
            "align_content": null,
            "align_items": null,
            "align_self": null,
            "border": null,
            "bottom": null,
            "display": null,
            "flex": null,
            "flex_flow": null,
            "grid_area": null,
            "grid_auto_columns": null,
            "grid_auto_flow": null,
            "grid_auto_rows": null,
            "grid_column": null,
            "grid_gap": null,
            "grid_row": null,
            "grid_template_areas": null,
            "grid_template_columns": null,
            "grid_template_rows": null,
            "height": null,
            "justify_content": null,
            "justify_items": null,
            "left": null,
            "margin": null,
            "max_height": null,
            "max_width": null,
            "min_height": null,
            "min_width": null,
            "object_fit": null,
            "object_position": null,
            "order": null,
            "overflow": null,
            "overflow_x": null,
            "overflow_y": null,
            "padding": null,
            "right": null,
            "top": null,
            "visibility": null,
            "width": null
          }
        },
        "6d2e01a77a4b473aa5e423ef545351eb": {
          "model_module": "@jupyter-widgets/controls",
          "model_name": "ProgressStyleModel",
          "model_module_version": "1.5.0",
          "state": {
            "_model_module": "@jupyter-widgets/controls",
            "_model_module_version": "1.5.0",
            "_model_name": "ProgressStyleModel",
            "_view_count": null,
            "_view_module": "@jupyter-widgets/base",
            "_view_module_version": "1.2.0",
            "_view_name": "StyleView",
            "bar_color": null,
            "description_width": ""
          }
        },
        "9d872c4c345542a4ab9db2e72c59009b": {
          "model_module": "@jupyter-widgets/base",
          "model_name": "LayoutModel",
          "model_module_version": "1.2.0",
          "state": {
            "_model_module": "@jupyter-widgets/base",
            "_model_module_version": "1.2.0",
            "_model_name": "LayoutModel",
            "_view_count": null,
            "_view_module": "@jupyter-widgets/base",
            "_view_module_version": "1.2.0",
            "_view_name": "LayoutView",
            "align_content": null,
            "align_items": null,
            "align_self": null,
            "border": null,
            "bottom": null,
            "display": null,
            "flex": null,
            "flex_flow": null,
            "grid_area": null,
            "grid_auto_columns": null,
            "grid_auto_flow": null,
            "grid_auto_rows": null,
            "grid_column": null,
            "grid_gap": null,
            "grid_row": null,
            "grid_template_areas": null,
            "grid_template_columns": null,
            "grid_template_rows": null,
            "height": null,
            "justify_content": null,
            "justify_items": null,
            "left": null,
            "margin": null,
            "max_height": null,
            "max_width": null,
            "min_height": null,
            "min_width": null,
            "object_fit": null,
            "object_position": null,
            "order": null,
            "overflow": null,
            "overflow_x": null,
            "overflow_y": null,
            "padding": null,
            "right": null,
            "top": null,
            "visibility": null,
            "width": null
          }
        },
        "b92996ed75f244c9bf4cf8d7a3a4c001": {
          "model_module": "@jupyter-widgets/controls",
          "model_name": "DescriptionStyleModel",
          "model_module_version": "1.5.0",
          "state": {
            "_model_module": "@jupyter-widgets/controls",
            "_model_module_version": "1.5.0",
            "_model_name": "DescriptionStyleModel",
            "_view_count": null,
            "_view_module": "@jupyter-widgets/base",
            "_view_module_version": "1.2.0",
            "_view_name": "StyleView",
            "description_width": ""
          }
        },
        "ad582b0396c844029884d14c1942fe63": {
          "model_module": "@jupyter-widgets/controls",
          "model_name": "HBoxModel",
          "model_module_version": "1.5.0",
          "state": {
            "_dom_classes": [],
            "_model_module": "@jupyter-widgets/controls",
            "_model_module_version": "1.5.0",
            "_model_name": "HBoxModel",
            "_view_count": null,
            "_view_module": "@jupyter-widgets/controls",
            "_view_module_version": "1.5.0",
            "_view_name": "HBoxView",
            "box_style": "",
            "children": [
              "IPY_MODEL_24feba2753e2461dbe3a03168c169e88",
              "IPY_MODEL_c66fe892953641fd80c97b7dc7005bef",
              "IPY_MODEL_9ddfb494df1d4f688457f42f17d1de34"
            ],
            "layout": "IPY_MODEL_243a24aa1f784c80acd819fe9d273961"
          }
        },
        "24feba2753e2461dbe3a03168c169e88": {
          "model_module": "@jupyter-widgets/controls",
          "model_name": "HTMLModel",
          "model_module_version": "1.5.0",
          "state": {
            "_dom_classes": [],
            "_model_module": "@jupyter-widgets/controls",
            "_model_module_version": "1.5.0",
            "_model_name": "HTMLModel",
            "_view_count": null,
            "_view_module": "@jupyter-widgets/controls",
            "_view_module_version": "1.5.0",
            "_view_name": "HTMLView",
            "description": "",
            "description_tooltip": null,
            "layout": "IPY_MODEL_cd78a9d52d44482aa2e24f1a52907d91",
            "placeholder": "​",
            "style": "IPY_MODEL_f78cf7062c62455083dd7a2d736a9272",
            "value": "config.json: 100%"
          }
        },
        "c66fe892953641fd80c97b7dc7005bef": {
          "model_module": "@jupyter-widgets/controls",
          "model_name": "FloatProgressModel",
          "model_module_version": "1.5.0",
          "state": {
            "_dom_classes": [],
            "_model_module": "@jupyter-widgets/controls",
            "_model_module_version": "1.5.0",
            "_model_name": "FloatProgressModel",
            "_view_count": null,
            "_view_module": "@jupyter-widgets/controls",
            "_view_module_version": "1.5.0",
            "_view_name": "ProgressView",
            "bar_style": "success",
            "description": "",
            "description_tooltip": null,
            "layout": "IPY_MODEL_a344be11445749e288ff4d2a66aab223",
            "max": 570,
            "min": 0,
            "orientation": "horizontal",
            "style": "IPY_MODEL_8b67e1a2fd694183b91ee5c0c9d20d82",
            "value": 570
          }
        },
        "9ddfb494df1d4f688457f42f17d1de34": {
          "model_module": "@jupyter-widgets/controls",
          "model_name": "HTMLModel",
          "model_module_version": "1.5.0",
          "state": {
            "_dom_classes": [],
            "_model_module": "@jupyter-widgets/controls",
            "_model_module_version": "1.5.0",
            "_model_name": "HTMLModel",
            "_view_count": null,
            "_view_module": "@jupyter-widgets/controls",
            "_view_module_version": "1.5.0",
            "_view_name": "HTMLView",
            "description": "",
            "description_tooltip": null,
            "layout": "IPY_MODEL_fd158ddff40c4e99b2ab18c342750ae5",
            "placeholder": "​",
            "style": "IPY_MODEL_3bf14e5457e24f9fa0297027e4ee3519",
            "value": " 570/570 [00:00&lt;00:00, 46.7kB/s]"
          }
        },
        "243a24aa1f784c80acd819fe9d273961": {
          "model_module": "@jupyter-widgets/base",
          "model_name": "LayoutModel",
          "model_module_version": "1.2.0",
          "state": {
            "_model_module": "@jupyter-widgets/base",
            "_model_module_version": "1.2.0",
            "_model_name": "LayoutModel",
            "_view_count": null,
            "_view_module": "@jupyter-widgets/base",
            "_view_module_version": "1.2.0",
            "_view_name": "LayoutView",
            "align_content": null,
            "align_items": null,
            "align_self": null,
            "border": null,
            "bottom": null,
            "display": null,
            "flex": null,
            "flex_flow": null,
            "grid_area": null,
            "grid_auto_columns": null,
            "grid_auto_flow": null,
            "grid_auto_rows": null,
            "grid_column": null,
            "grid_gap": null,
            "grid_row": null,
            "grid_template_areas": null,
            "grid_template_columns": null,
            "grid_template_rows": null,
            "height": null,
            "justify_content": null,
            "justify_items": null,
            "left": null,
            "margin": null,
            "max_height": null,
            "max_width": null,
            "min_height": null,
            "min_width": null,
            "object_fit": null,
            "object_position": null,
            "order": null,
            "overflow": null,
            "overflow_x": null,
            "overflow_y": null,
            "padding": null,
            "right": null,
            "top": null,
            "visibility": null,
            "width": null
          }
        },
        "cd78a9d52d44482aa2e24f1a52907d91": {
          "model_module": "@jupyter-widgets/base",
          "model_name": "LayoutModel",
          "model_module_version": "1.2.0",
          "state": {
            "_model_module": "@jupyter-widgets/base",
            "_model_module_version": "1.2.0",
            "_model_name": "LayoutModel",
            "_view_count": null,
            "_view_module": "@jupyter-widgets/base",
            "_view_module_version": "1.2.0",
            "_view_name": "LayoutView",
            "align_content": null,
            "align_items": null,
            "align_self": null,
            "border": null,
            "bottom": null,
            "display": null,
            "flex": null,
            "flex_flow": null,
            "grid_area": null,
            "grid_auto_columns": null,
            "grid_auto_flow": null,
            "grid_auto_rows": null,
            "grid_column": null,
            "grid_gap": null,
            "grid_row": null,
            "grid_template_areas": null,
            "grid_template_columns": null,
            "grid_template_rows": null,
            "height": null,
            "justify_content": null,
            "justify_items": null,
            "left": null,
            "margin": null,
            "max_height": null,
            "max_width": null,
            "min_height": null,
            "min_width": null,
            "object_fit": null,
            "object_position": null,
            "order": null,
            "overflow": null,
            "overflow_x": null,
            "overflow_y": null,
            "padding": null,
            "right": null,
            "top": null,
            "visibility": null,
            "width": null
          }
        },
        "f78cf7062c62455083dd7a2d736a9272": {
          "model_module": "@jupyter-widgets/controls",
          "model_name": "DescriptionStyleModel",
          "model_module_version": "1.5.0",
          "state": {
            "_model_module": "@jupyter-widgets/controls",
            "_model_module_version": "1.5.0",
            "_model_name": "DescriptionStyleModel",
            "_view_count": null,
            "_view_module": "@jupyter-widgets/base",
            "_view_module_version": "1.2.0",
            "_view_name": "StyleView",
            "description_width": ""
          }
        },
        "a344be11445749e288ff4d2a66aab223": {
          "model_module": "@jupyter-widgets/base",
          "model_name": "LayoutModel",
          "model_module_version": "1.2.0",
          "state": {
            "_model_module": "@jupyter-widgets/base",
            "_model_module_version": "1.2.0",
            "_model_name": "LayoutModel",
            "_view_count": null,
            "_view_module": "@jupyter-widgets/base",
            "_view_module_version": "1.2.0",
            "_view_name": "LayoutView",
            "align_content": null,
            "align_items": null,
            "align_self": null,
            "border": null,
            "bottom": null,
            "display": null,
            "flex": null,
            "flex_flow": null,
            "grid_area": null,
            "grid_auto_columns": null,
            "grid_auto_flow": null,
            "grid_auto_rows": null,
            "grid_column": null,
            "grid_gap": null,
            "grid_row": null,
            "grid_template_areas": null,
            "grid_template_columns": null,
            "grid_template_rows": null,
            "height": null,
            "justify_content": null,
            "justify_items": null,
            "left": null,
            "margin": null,
            "max_height": null,
            "max_width": null,
            "min_height": null,
            "min_width": null,
            "object_fit": null,
            "object_position": null,
            "order": null,
            "overflow": null,
            "overflow_x": null,
            "overflow_y": null,
            "padding": null,
            "right": null,
            "top": null,
            "visibility": null,
            "width": null
          }
        },
        "8b67e1a2fd694183b91ee5c0c9d20d82": {
          "model_module": "@jupyter-widgets/controls",
          "model_name": "ProgressStyleModel",
          "model_module_version": "1.5.0",
          "state": {
            "_model_module": "@jupyter-widgets/controls",
            "_model_module_version": "1.5.0",
            "_model_name": "ProgressStyleModel",
            "_view_count": null,
            "_view_module": "@jupyter-widgets/base",
            "_view_module_version": "1.2.0",
            "_view_name": "StyleView",
            "bar_color": null,
            "description_width": ""
          }
        },
        "fd158ddff40c4e99b2ab18c342750ae5": {
          "model_module": "@jupyter-widgets/base",
          "model_name": "LayoutModel",
          "model_module_version": "1.2.0",
          "state": {
            "_model_module": "@jupyter-widgets/base",
            "_model_module_version": "1.2.0",
            "_model_name": "LayoutModel",
            "_view_count": null,
            "_view_module": "@jupyter-widgets/base",
            "_view_module_version": "1.2.0",
            "_view_name": "LayoutView",
            "align_content": null,
            "align_items": null,
            "align_self": null,
            "border": null,
            "bottom": null,
            "display": null,
            "flex": null,
            "flex_flow": null,
            "grid_area": null,
            "grid_auto_columns": null,
            "grid_auto_flow": null,
            "grid_auto_rows": null,
            "grid_column": null,
            "grid_gap": null,
            "grid_row": null,
            "grid_template_areas": null,
            "grid_template_columns": null,
            "grid_template_rows": null,
            "height": null,
            "justify_content": null,
            "justify_items": null,
            "left": null,
            "margin": null,
            "max_height": null,
            "max_width": null,
            "min_height": null,
            "min_width": null,
            "object_fit": null,
            "object_position": null,
            "order": null,
            "overflow": null,
            "overflow_x": null,
            "overflow_y": null,
            "padding": null,
            "right": null,
            "top": null,
            "visibility": null,
            "width": null
          }
        },
        "3bf14e5457e24f9fa0297027e4ee3519": {
          "model_module": "@jupyter-widgets/controls",
          "model_name": "DescriptionStyleModel",
          "model_module_version": "1.5.0",
          "state": {
            "_model_module": "@jupyter-widgets/controls",
            "_model_module_version": "1.5.0",
            "_model_name": "DescriptionStyleModel",
            "_view_count": null,
            "_view_module": "@jupyter-widgets/base",
            "_view_module_version": "1.2.0",
            "_view_name": "StyleView",
            "description_width": ""
          }
        },
        "41a53a4afe45467eaa5cf2070badfd46": {
          "model_module": "@jupyter-widgets/controls",
          "model_name": "HBoxModel",
          "model_module_version": "1.5.0",
          "state": {
            "_dom_classes": [],
            "_model_module": "@jupyter-widgets/controls",
            "_model_module_version": "1.5.0",
            "_model_name": "HBoxModel",
            "_view_count": null,
            "_view_module": "@jupyter-widgets/controls",
            "_view_module_version": "1.5.0",
            "_view_name": "HBoxView",
            "box_style": "",
            "children": [
              "IPY_MODEL_41550c5b57f8459eb8607402c4d782d3",
              "IPY_MODEL_125a54f5067d4f5ca8498b60797b1f86",
              "IPY_MODEL_425864674c904831b9eebd2a285324da"
            ],
            "layout": "IPY_MODEL_dde7131c070942ada0e297ce150e1bbe"
          }
        },
        "41550c5b57f8459eb8607402c4d782d3": {
          "model_module": "@jupyter-widgets/controls",
          "model_name": "HTMLModel",
          "model_module_version": "1.5.0",
          "state": {
            "_dom_classes": [],
            "_model_module": "@jupyter-widgets/controls",
            "_model_module_version": "1.5.0",
            "_model_name": "HTMLModel",
            "_view_count": null,
            "_view_module": "@jupyter-widgets/controls",
            "_view_module_version": "1.5.0",
            "_view_name": "HTMLView",
            "description": "",
            "description_tooltip": null,
            "layout": "IPY_MODEL_3eb7896dfece417c97acb2e0093a1ac0",
            "placeholder": "​",
            "style": "IPY_MODEL_0dcc04e367254b0c9c5ab3ee12727a12",
            "value": "model.safetensors: 100%"
          }
        },
        "125a54f5067d4f5ca8498b60797b1f86": {
          "model_module": "@jupyter-widgets/controls",
          "model_name": "FloatProgressModel",
          "model_module_version": "1.5.0",
          "state": {
            "_dom_classes": [],
            "_model_module": "@jupyter-widgets/controls",
            "_model_module_version": "1.5.0",
            "_model_name": "FloatProgressModel",
            "_view_count": null,
            "_view_module": "@jupyter-widgets/controls",
            "_view_module_version": "1.5.0",
            "_view_name": "ProgressView",
            "bar_style": "success",
            "description": "",
            "description_tooltip": null,
            "layout": "IPY_MODEL_9a92b367df1043238297256257bf1cab",
            "max": 440449768,
            "min": 0,
            "orientation": "horizontal",
            "style": "IPY_MODEL_576754fa9e474c7e80c2abd8c651d88b",
            "value": 440449768
          }
        },
        "425864674c904831b9eebd2a285324da": {
          "model_module": "@jupyter-widgets/controls",
          "model_name": "HTMLModel",
          "model_module_version": "1.5.0",
          "state": {
            "_dom_classes": [],
            "_model_module": "@jupyter-widgets/controls",
            "_model_module_version": "1.5.0",
            "_model_name": "HTMLModel",
            "_view_count": null,
            "_view_module": "@jupyter-widgets/controls",
            "_view_module_version": "1.5.0",
            "_view_name": "HTMLView",
            "description": "",
            "description_tooltip": null,
            "layout": "IPY_MODEL_34a0543536ea4b899290089df82b90be",
            "placeholder": "​",
            "style": "IPY_MODEL_645a6d21d08a470aa81d0b80aa609a7d",
            "value": " 440M/440M [00:03&lt;00:00, 89.4MB/s]"
          }
        },
        "dde7131c070942ada0e297ce150e1bbe": {
          "model_module": "@jupyter-widgets/base",
          "model_name": "LayoutModel",
          "model_module_version": "1.2.0",
          "state": {
            "_model_module": "@jupyter-widgets/base",
            "_model_module_version": "1.2.0",
            "_model_name": "LayoutModel",
            "_view_count": null,
            "_view_module": "@jupyter-widgets/base",
            "_view_module_version": "1.2.0",
            "_view_name": "LayoutView",
            "align_content": null,
            "align_items": null,
            "align_self": null,
            "border": null,
            "bottom": null,
            "display": null,
            "flex": null,
            "flex_flow": null,
            "grid_area": null,
            "grid_auto_columns": null,
            "grid_auto_flow": null,
            "grid_auto_rows": null,
            "grid_column": null,
            "grid_gap": null,
            "grid_row": null,
            "grid_template_areas": null,
            "grid_template_columns": null,
            "grid_template_rows": null,
            "height": null,
            "justify_content": null,
            "justify_items": null,
            "left": null,
            "margin": null,
            "max_height": null,
            "max_width": null,
            "min_height": null,
            "min_width": null,
            "object_fit": null,
            "object_position": null,
            "order": null,
            "overflow": null,
            "overflow_x": null,
            "overflow_y": null,
            "padding": null,
            "right": null,
            "top": null,
            "visibility": null,
            "width": null
          }
        },
        "3eb7896dfece417c97acb2e0093a1ac0": {
          "model_module": "@jupyter-widgets/base",
          "model_name": "LayoutModel",
          "model_module_version": "1.2.0",
          "state": {
            "_model_module": "@jupyter-widgets/base",
            "_model_module_version": "1.2.0",
            "_model_name": "LayoutModel",
            "_view_count": null,
            "_view_module": "@jupyter-widgets/base",
            "_view_module_version": "1.2.0",
            "_view_name": "LayoutView",
            "align_content": null,
            "align_items": null,
            "align_self": null,
            "border": null,
            "bottom": null,
            "display": null,
            "flex": null,
            "flex_flow": null,
            "grid_area": null,
            "grid_auto_columns": null,
            "grid_auto_flow": null,
            "grid_auto_rows": null,
            "grid_column": null,
            "grid_gap": null,
            "grid_row": null,
            "grid_template_areas": null,
            "grid_template_columns": null,
            "grid_template_rows": null,
            "height": null,
            "justify_content": null,
            "justify_items": null,
            "left": null,
            "margin": null,
            "max_height": null,
            "max_width": null,
            "min_height": null,
            "min_width": null,
            "object_fit": null,
            "object_position": null,
            "order": null,
            "overflow": null,
            "overflow_x": null,
            "overflow_y": null,
            "padding": null,
            "right": null,
            "top": null,
            "visibility": null,
            "width": null
          }
        },
        "0dcc04e367254b0c9c5ab3ee12727a12": {
          "model_module": "@jupyter-widgets/controls",
          "model_name": "DescriptionStyleModel",
          "model_module_version": "1.5.0",
          "state": {
            "_model_module": "@jupyter-widgets/controls",
            "_model_module_version": "1.5.0",
            "_model_name": "DescriptionStyleModel",
            "_view_count": null,
            "_view_module": "@jupyter-widgets/base",
            "_view_module_version": "1.2.0",
            "_view_name": "StyleView",
            "description_width": ""
          }
        },
        "9a92b367df1043238297256257bf1cab": {
          "model_module": "@jupyter-widgets/base",
          "model_name": "LayoutModel",
          "model_module_version": "1.2.0",
          "state": {
            "_model_module": "@jupyter-widgets/base",
            "_model_module_version": "1.2.0",
            "_model_name": "LayoutModel",
            "_view_count": null,
            "_view_module": "@jupyter-widgets/base",
            "_view_module_version": "1.2.0",
            "_view_name": "LayoutView",
            "align_content": null,
            "align_items": null,
            "align_self": null,
            "border": null,
            "bottom": null,
            "display": null,
            "flex": null,
            "flex_flow": null,
            "grid_area": null,
            "grid_auto_columns": null,
            "grid_auto_flow": null,
            "grid_auto_rows": null,
            "grid_column": null,
            "grid_gap": null,
            "grid_row": null,
            "grid_template_areas": null,
            "grid_template_columns": null,
            "grid_template_rows": null,
            "height": null,
            "justify_content": null,
            "justify_items": null,
            "left": null,
            "margin": null,
            "max_height": null,
            "max_width": null,
            "min_height": null,
            "min_width": null,
            "object_fit": null,
            "object_position": null,
            "order": null,
            "overflow": null,
            "overflow_x": null,
            "overflow_y": null,
            "padding": null,
            "right": null,
            "top": null,
            "visibility": null,
            "width": null
          }
        },
        "576754fa9e474c7e80c2abd8c651d88b": {
          "model_module": "@jupyter-widgets/controls",
          "model_name": "ProgressStyleModel",
          "model_module_version": "1.5.0",
          "state": {
            "_model_module": "@jupyter-widgets/controls",
            "_model_module_version": "1.5.0",
            "_model_name": "ProgressStyleModel",
            "_view_count": null,
            "_view_module": "@jupyter-widgets/base",
            "_view_module_version": "1.2.0",
            "_view_name": "StyleView",
            "bar_color": null,
            "description_width": ""
          }
        },
        "34a0543536ea4b899290089df82b90be": {
          "model_module": "@jupyter-widgets/base",
          "model_name": "LayoutModel",
          "model_module_version": "1.2.0",
          "state": {
            "_model_module": "@jupyter-widgets/base",
            "_model_module_version": "1.2.0",
            "_model_name": "LayoutModel",
            "_view_count": null,
            "_view_module": "@jupyter-widgets/base",
            "_view_module_version": "1.2.0",
            "_view_name": "LayoutView",
            "align_content": null,
            "align_items": null,
            "align_self": null,
            "border": null,
            "bottom": null,
            "display": null,
            "flex": null,
            "flex_flow": null,
            "grid_area": null,
            "grid_auto_columns": null,
            "grid_auto_flow": null,
            "grid_auto_rows": null,
            "grid_column": null,
            "grid_gap": null,
            "grid_row": null,
            "grid_template_areas": null,
            "grid_template_columns": null,
            "grid_template_rows": null,
            "height": null,
            "justify_content": null,
            "justify_items": null,
            "left": null,
            "margin": null,
            "max_height": null,
            "max_width": null,
            "min_height": null,
            "min_width": null,
            "object_fit": null,
            "object_position": null,
            "order": null,
            "overflow": null,
            "overflow_x": null,
            "overflow_y": null,
            "padding": null,
            "right": null,
            "top": null,
            "visibility": null,
            "width": null
          }
        },
        "645a6d21d08a470aa81d0b80aa609a7d": {
          "model_module": "@jupyter-widgets/controls",
          "model_name": "DescriptionStyleModel",
          "model_module_version": "1.5.0",
          "state": {
            "_model_module": "@jupyter-widgets/controls",
            "_model_module_version": "1.5.0",
            "_model_name": "DescriptionStyleModel",
            "_view_count": null,
            "_view_module": "@jupyter-widgets/base",
            "_view_module_version": "1.2.0",
            "_view_name": "StyleView",
            "description_width": ""
          }
        }
      }
    }
  },
  "nbformat": 4,
  "nbformat_minor": 0
}